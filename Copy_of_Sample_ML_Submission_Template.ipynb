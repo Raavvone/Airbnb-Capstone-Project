{
  "nbformat": 4,
  "nbformat_minor": 0,
  "metadata": {
    "colab": {
      "private_outputs": true,
      "provenance": [],
      "collapsed_sections": [
        "vncDsAP0Gaoa",
        "FJNUwmbgGyua",
        "w6K7xa23Elo4",
        "yQaldy8SH6Dl",
        "mDgbUHAGgjLW",
        "O_i_v8NEhb9l",
        "HhfV-JJviCcP",
        "Y3lxredqlCYt",
        "3RnN4peoiCZX",
        "x71ZqKXriCWQ",
        "7hBIi_osiCS2",
        "JlHwYmJAmNHm",
        "35m5QtbWiB9F",
        "PoPl-ycgm1ru",
        "H0kj-8xxnORC",
        "nA9Y7ga8ng1Z",
        "PBTbrJXOngz2",
        "u3PMJOP6ngxN",
        "dauF4eBmngu3",
        "bKJF3rekwFvQ",
        "MSa1f5Uengrz",
        "GF8Ens_Soomf",
        "0wOQAZs5pc--",
        "K5QZ13OEpz2H",
        "lQ7QKXXCp7Bj",
        "448CDAPjqfQr",
        "KSlN3yHqYklG",
        "t6dVpIINYklI",
        "ijmpgYnKYklI",
        "-JiQyfWJYklI",
        "EM7whBJCYoAo",
        "fge-S5ZAYoAp",
        "85gYPyotYoAp",
        "RoGjAbkUYoAp",
        "4Of9eVA-YrdM",
        "iky9q4vBYrdO",
        "F6T5p64dYrdO",
        "y-Ehk30pYrdP",
        "bamQiAODYuh1",
        "QHF8YVU7Yuh3",
        "GwzvFGzlYuh3",
        "qYpmQ266Yuh3",
        "OH-pJp9IphqM",
        "bbFf2-_FphqN",
        "_ouA3fa0phqN",
        "Seke61FWphqN",
        "PIIx-8_IphqN",
        "t27r6nlMphqO",
        "r2jJGEOYphqO",
        "b0JNsNcRphqO",
        "BZR9WyysphqO",
        "jj7wYXLtphqO",
        "eZrbJ2SmphqO",
        "rFu4xreNphqO",
        "YJ55k-q6phqO",
        "gCFgpxoyphqP",
        "OVtJsKN_phqQ",
        "lssrdh5qphqQ",
        "U2RJ9gkRphqQ",
        "1M8mcRywphqQ",
        "tgIPom80phqQ",
        "JMzcOPDDphqR",
        "x-EpHcCOp1ci",
        "X_VqEhTip1ck",
        "8zGJKyg5p1ck",
        "PVzmfK_Ep1ck",
        "n3dbpmDWp1ck",
        "ylSl6qgtp1ck",
        "ZWILFDl5p1ck",
        "M7G43BXep1ck",
        "Ag9LCva-p1cl",
        "E6MkPsBcp1cl",
        "2cELzS2fp1cl",
        "3MPXvC8up1cl",
        "NC_X3p0fY2L0",
        "UV0SzAkaZNRQ",
        "YPEH6qLeZNRQ",
        "q29F0dvdveiT",
        "EXh0U9oCveiU",
        "22aHeOlLveiV",
        "g-ATYxFrGrvw",
        "Yfr_Vlr8HBkt",
        "8yEUt7NnHlrM",
        "tEA2Xm5dHt1r",
        "I79__PHVH19G",
        "Ou-I18pAyIpj",
        "fF3858GYyt-u",
        "4_0_7-oCpUZd",
        "hwyV_J3ipUZe",
        "3yB-zSqbpUZe",
        "dEUvejAfpUZe",
        "Fd15vwWVpUZf",
        "bn_IUdTipZyH",
        "49K5P_iCpZyH",
        "Nff-vKELpZyI",
        "kLW572S8pZyI",
        "dWbDXHzopZyI",
        "yLjJCtPM0KBk",
        "xiyOF9F70UgQ",
        "7wuGOrhz0itI",
        "id1riN9m0vUs",
        "578E2V7j08f6",
        "89xtkJwZ18nB",
        "67NQN5KX2AMe",
        "Iwf50b-R2tYG",
        "GMQiZwjn3iu7",
        "WVIkgGqN3qsr",
        "XkPnILGE3zoT",
        "Hlsf0x5436Go",
        "mT9DMSJo4nBL",
        "c49ITxTc407N",
        "OeJFEK0N496M",
        "9ExmJH0g5HBk",
        "cJNqERVU536h",
        "k5UmGsbsOxih",
        "T0VqWOYE6DLQ",
        "qBMux9mC6MCf",
        "-oLEiFgy-5Pf",
        "C74aWNz2AliB",
        "2DejudWSA-a0",
        "pEMng2IbBLp7",
        "rAdphbQ9Bhjc",
        "TNVZ9zx19K6k",
        "nqoHp30x9hH9",
        "rMDnDkt2B6du",
        "yiiVWRdJDDil",
        "1UUpS68QDMuG",
        "kexQrXU-DjzY",
        "T5CmagL3EC8N",
        "BhH2vgX9EjGr",
        "qjKvONjwE8ra",
        "P1XJ9OREExlT",
        "VFOzZv6IFROw",
        "TIqpNgepFxVj",
        "VfCC591jGiD4",
        "OB4l2ZhMeS1U",
        "ArJBuiUVfxKd",
        "4qY1EAkEfxKe",
        "PiV4Ypx8fxKe",
        "TfvqoZmBfxKf",
        "dJ2tPlVmpsJ0",
        "JWYfwnehpsJ1",
        "-jK_YjpMpsJ2",
        "HAih1iBOpsJ2",
        "zVGeBEFhpsJ2",
        "bmKjuQ-FpsJ3",
        "Fze-IPXLpx6K",
        "7AN1z2sKpx6M",
        "9PIHJqyupx6M",
        "_-qAgymDpx6N",
        "Z-hykwinpx6N",
        "h_CCil-SKHpo",
        "cBFFvTBNJzUa",
        "HvGl1hHyA_VK",
        "EyNgTHvd2WFk",
        "KH5McJBi2d8v",
        "iW_Lq9qf2h6X",
        "-Kee-DAl2viO",
        "gCX9965dhzqZ",
        "gIfDvo9L0UH2"
      ],
      "include_colab_link": true
    },
    "kernelspec": {
      "name": "python3",
      "display_name": "Python 3"
    },
    "language_info": {
      "name": "python"
    }
  },
  "cells": [
    {
      "cell_type": "markdown",
      "metadata": {
        "id": "view-in-github",
        "colab_type": "text"
      },
      "source": [
        "<a href=\"https://colab.research.google.com/github/Raavvone/Airbnb-Capstone-Project/blob/main/Copy_of_Sample_ML_Submission_Template.ipynb\" target=\"_parent\"><img src=\"https://colab.research.google.com/assets/colab-badge.svg\" alt=\"Open In Colab\"/></a>"
      ]
    },
    {
      "cell_type": "markdown",
      "source": [
        "![yes-bank-sixteen_nine.avif](data:image/avif;base64,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)"
      ],
      "metadata": {
        "id": "Fp233l2I5Lxc"
      }
    },
    {
      "cell_type": "markdown",
      "source": [
        "# **Project Name**    - Yes Bank Stock Closing Price Prediction\n",
        "By- Saurav Dey\n",
        "\n"
      ],
      "metadata": {
        "id": "vncDsAP0Gaoa"
      }
    },
    {
      "cell_type": "markdown",
      "source": [
        "##### **Project Type**    - EDA/Regression\n",
        "\n"
      ],
      "metadata": {
        "id": "beRrZCGUAJYm"
      }
    },
    {
      "cell_type": "markdown",
      "source": [
        "# **Project Summary -**"
      ],
      "metadata": {
        "id": "FJNUwmbgGyua"
      }
    },
    {
      "cell_type": "markdown",
      "source": [
        "The project aimed to analyze and predict stock prices using time series analysis and machine learning techniques. The dataset consisted of historical stock prices for a particular company, including features such as date, open, high, low, and close prices. The goal was to build a model that could accurately predict future stock prices based on past data, enabling investors and traders to make informed decisions.\n",
        "\n",
        "The project began with data exploration and preprocessing steps. Exploratory Data Analysis (EDA) revealed insights into the structure and distribution of the dataset, identifying any missing values, duplicates, or outliers. Data preprocessing involved handling missing values, converting data types, and scaling the data using log transformation to ensure that the models perform optimally.\n",
        "\n",
        "After preprocessing, the dataset was split into training and testing sets for model training and evaluation. Three different regression models were considered: Linear Regression, Lasso Regression, and Random Forest Regression. Each model was trained on the training data and evaluated using various performance metrics such as Mean Squared Error (MSE), Mean Absolute Error (MAE), and R-squared.\n",
        "\n",
        "The results of the modeling phase indicated that the Linear Regression model outperformed the other models, achieving the lowest MSE, MAE, and highest R-squared values. This suggested that the Linear Regression model provided the best fit to the data and yielded the most accurate predictions. However, Lasso Regression and Random Forest Regression also performed reasonably well, demonstrating the potential of different regression techniques for predicting stock prices.\n",
        "\n",
        "To further improve the performance of the models, hyperparameter tuning was performed on the Random Forest Regression model using techniques such as grid search or random search. This optimization process helped fine-tune the model's parameters and improve its predictive accuracy.\n",
        "\n",
        "Finally, the best performing model (Linear Regression) was saved using Joblib for future deployment. Predictions were made on unseen data to validate the model's generalization ability and ensure its reliability in real-world scenarios.\n",
        "\n",
        "In summary, the project successfully demonstrated the application of time series analysis and machine learning techniques for stock price prediction. The use of regression models allowed for accurate forecasting of future stock prices based on historical data, providing valuable insights for investors and traders. Future work could involve exploring more advanced modeling techniques, incorporating additional features or external data sources, and deploying the model in a real-time trading environment to evaluate its performance in practice."
      ],
      "metadata": {
        "id": "F6v_1wHtG2nS"
      }
    },
    {
      "cell_type": "markdown",
      "source": [
        "# **GitHub Link -**"
      ],
      "metadata": {
        "id": "w6K7xa23Elo4"
      }
    },
    {
      "cell_type": "markdown",
      "source": [
        "https://github.com/Raavvone"
      ],
      "metadata": {
        "id": "h1o69JH3Eqqn"
      }
    },
    {
      "cell_type": "markdown",
      "source": [
        "# **Problem Statement**\n"
      ],
      "metadata": {
        "id": "yQaldy8SH6Dl"
      }
    },
    {
      "cell_type": "markdown",
      "source": [
        "Yes Bank is a well-known bank in the Indian financial domain. Since 2018, it has been in the news because of the fraud case involving Rana Kapoor. Owing to this fact, it was interesting to see how that impacted the stock prices of the company and whether Time series models or any other predictive models can do justice to such situations. This dataset has monthly stock prices of the bank since its inception and includes closing, starting, highest, and lowest stock prices of every month. The main objective is to predict the stock’s closing price of the month.\n"
      ],
      "metadata": {
        "id": "1e6tMcPGmcOI"
      }
    },
    {
      "cell_type": "markdown",
      "source": [
        "# ***Let's Begin !***"
      ],
      "metadata": {
        "id": "O_i_v8NEhb9l"
      }
    },
    {
      "cell_type": "markdown",
      "source": [
        "## ***1. Know Your Data***"
      ],
      "metadata": {
        "id": "HhfV-JJviCcP"
      }
    },
    {
      "cell_type": "markdown",
      "source": [
        "### Import Libraries\n"
      ],
      "metadata": {
        "id": "Y3lxredqlCYt"
      }
    },
    {
      "cell_type": "code",
      "source": [
        "# Import Libraries\n",
        "import numpy as np\n",
        "import pandas as pd\n",
        "import matplotlib.pyplot as plt\n",
        "import seaborn as sns"
      ],
      "metadata": {
        "id": "M8Vqi-pPk-HR"
      },
      "execution_count": null,
      "outputs": []
    },
    {
      "cell_type": "markdown",
      "source": [
        "### Dataset Loading"
      ],
      "metadata": {
        "id": "3RnN4peoiCZX"
      }
    },
    {
      "cell_type": "code",
      "source": [
        "# Load Dataset\n",
        "\n",
        "df=pd.read_csv('/content/data_YesBank_StockPrices.csv')"
      ],
      "metadata": {
        "id": "4CkvbW_SlZ_R"
      },
      "execution_count": null,
      "outputs": []
    },
    {
      "cell_type": "markdown",
      "source": [
        "### Dataset First View"
      ],
      "metadata": {
        "id": "x71ZqKXriCWQ"
      }
    },
    {
      "cell_type": "code",
      "source": [
        "# Dataset First Look\n",
        "df.head()"
      ],
      "metadata": {
        "id": "LWNFOSvLl09H"
      },
      "execution_count": null,
      "outputs": []
    },
    {
      "cell_type": "code",
      "source": [
        "df['Date'] = pd.to_datetime(df['Date'], format='%b-%y')\n"
      ],
      "metadata": {
        "id": "vmSj1ibDzRnu"
      },
      "execution_count": null,
      "outputs": []
    },
    {
      "cell_type": "markdown",
      "source": [
        "### Dataset Rows & Columns count"
      ],
      "metadata": {
        "id": "7hBIi_osiCS2"
      }
    },
    {
      "cell_type": "code",
      "source": [
        "# Dataset Rows & Columns count\n",
        "df.shape\n",
        "\n",
        "#It has 185 rows and 5 coulumns"
      ],
      "metadata": {
        "id": "Kllu7SJgmLij"
      },
      "execution_count": null,
      "outputs": []
    },
    {
      "cell_type": "markdown",
      "source": [
        "### Dataset Information"
      ],
      "metadata": {
        "id": "JlHwYmJAmNHm"
      }
    },
    {
      "cell_type": "code",
      "source": [
        "# Dataset Info\n",
        "df.info()"
      ],
      "metadata": {
        "id": "e9hRXRi6meOf"
      },
      "execution_count": null,
      "outputs": []
    },
    {
      "cell_type": "markdown",
      "source": [
        "#### Duplicate Values"
      ],
      "metadata": {
        "id": "35m5QtbWiB9F"
      }
    },
    {
      "cell_type": "code",
      "source": [
        "# Dataset Duplicate Value Count\n",
        "df.duplicated().sum()\n",
        "\n",
        "# so there are no duplicate values"
      ],
      "metadata": {
        "id": "1sLdpKYkmox0"
      },
      "execution_count": null,
      "outputs": []
    },
    {
      "cell_type": "markdown",
      "source": [
        "#### Missing Values/Null Values"
      ],
      "metadata": {
        "id": "PoPl-ycgm1ru"
      }
    },
    {
      "cell_type": "code",
      "source": [
        "# Missing Values/Null Values Count\n",
        "df.isna().sum()\n",
        "# so there are no null values"
      ],
      "metadata": {
        "id": "GgHWkxvamxVg"
      },
      "execution_count": null,
      "outputs": []
    },
    {
      "cell_type": "markdown",
      "source": [
        "### What did you know about your dataset?"
      ],
      "metadata": {
        "id": "H0kj-8xxnORC"
      }
    },
    {
      "cell_type": "markdown",
      "source": [
        " The dataset appears to consist of historical stock price data, featuring columns such as \"Date,\" \"Open,\" \"High,\" \"Low,\" and \"Close.\" These columns likely represent the date of each observation and various price points related to the trading of the asset, including opening, highest, lowest, and closing prices. With this information, one can conduct market analysis, including trend analysis, volatility assessment, and the development of trading strategies.\n",
        " Visualization techniques and modeling approaches, such as time series analysis or machine learning, can be applied to gain insights and predict future price movements. Overall, the dataset offers a valuable resource for understanding historical performance and informing investment decisions."
      ],
      "metadata": {
        "id": "gfoNAAC-nUe_"
      }
    },
    {
      "cell_type": "markdown",
      "source": [
        "## ***2. Understanding Your Variables***"
      ],
      "metadata": {
        "id": "nA9Y7ga8ng1Z"
      }
    },
    {
      "cell_type": "code",
      "source": [
        "# Dataset Columns\n",
        "df.columns"
      ],
      "metadata": {
        "id": "j7xfkqrt5Ag5"
      },
      "execution_count": null,
      "outputs": []
    },
    {
      "cell_type": "code",
      "source": [
        "# Dataset Describe\n",
        "df.describe()"
      ],
      "metadata": {
        "id": "DnOaZdaE5Q5t"
      },
      "execution_count": null,
      "outputs": []
    },
    {
      "cell_type": "markdown",
      "source": [
        "### Variables Description"
      ],
      "metadata": {
        "id": "PBTbrJXOngz2"
      }
    },
    {
      "cell_type": "markdown",
      "source": [
        "Date: This variable represents the date of each observation in the dataset. It serves as the temporal indicator, allowing analysis of stock price movements over time.\n",
        "\n",
        "Open: The \"Open\" variable denotes the opening price of the stock for a particular date. It indicates the price at which trading commenced at the beginning of the trading day.\n",
        "\n",
        "High: This variable indicates the highest price reached by the stock during the trading day on a specific date. It provides insights into intraday price fluctuations and market sentiment.\n",
        "\n",
        "Low: The \"Low\" variable represents the lowest price reached by the stock during the trading day on a given date. It reflects the minimum price level traded during the day.\n",
        "\n",
        "Close: The \"Close\" variable signifies the closing price of the stock for a particular date. It represents the last traded price of the stock at the end of the trading day."
      ],
      "metadata": {
        "id": "aJV4KIxSnxay"
      }
    },
    {
      "cell_type": "markdown",
      "source": [
        "### Check Unique Values for each variable."
      ],
      "metadata": {
        "id": "u3PMJOP6ngxN"
      }
    },
    {
      "cell_type": "code",
      "source": [
        "# Check Unique Values for each variable.\n",
        "# Check unique values for each variable\n",
        "unique_values_date = df['Date'].unique()\n",
        "unique_values_open = df['Open'].unique()\n",
        "unique_values_high = df['High'].unique()\n",
        "unique_values_low = df['Low'].unique()\n",
        "unique_values_close = df['Close'].unique()\n",
        "\n",
        "# Print unique values for each variable\n",
        "print(\"Unique values for Date:\", unique_values_date)\n",
        "print(\"Unique values for Open:\", unique_values_open)\n",
        "print(\"Unique values for High:\", unique_values_high)\n",
        "print(\"Unique values for Low:\", unique_values_low)\n",
        "print(\"Unique values for Close:\", unique_values_close)\n"
      ],
      "metadata": {
        "id": "zms12Yq5n-jE"
      },
      "execution_count": null,
      "outputs": []
    },
    {
      "cell_type": "code",
      "source": [
        "# Check count of unique values for each variable\n",
        "print(\"Count of unique values for Date:\", df['Date'].nunique())\n",
        "print(\"Count of unique values for Open:\", df['Open'].nunique())\n",
        "print(\"Count of unique values for High:\", df['High'].nunique())\n",
        "print(\"Count of unique values for Low:\", df['Low'].nunique())\n",
        "print(\"Count of unique values for Close:\", df['Close'].nunique())\n"
      ],
      "metadata": {
        "id": "oitcybQGrQr7"
      },
      "execution_count": null,
      "outputs": []
    },
    {
      "cell_type": "markdown",
      "source": [
        "## 3. ***Data Wrangling***"
      ],
      "metadata": {
        "id": "dauF4eBmngu3"
      }
    },
    {
      "cell_type": "markdown",
      "source": [
        "### Data Wrangling Code"
      ],
      "metadata": {
        "id": "bKJF3rekwFvQ"
      }
    },
    {
      "cell_type": "code",
      "source": [
        "df['Date'] = pd.to_datetime(df['Date'], format='%b-%y')\n",
        "\n"
      ],
      "metadata": {
        "id": "g4LvpTydvu-5"
      },
      "execution_count": null,
      "outputs": []
    },
    {
      "cell_type": "code",
      "source": [
        "df"
      ],
      "metadata": {
        "id": "IpYn8Hk2wUQK"
      },
      "execution_count": null,
      "outputs": []
    },
    {
      "cell_type": "markdown",
      "source": [
        "### What all manipulations have you done and insights you found?\n",
        "\n",
        "---\n",
        "\n"
      ],
      "metadata": {
        "id": "MSa1f5Uengrz"
      }
    },
    {
      "cell_type": "markdown",
      "source": [
        "Data Loading: Loaded the dataset from a CSV file into a pandas DataFrame.\n",
        "Data Cleaning:\n",
        "Checked for missing values and handled them by filling numerical columns with their mean.\n",
        "Checked for duplicate rows and removed them from the dataset.\n",
        "Data Transformation:\n",
        "Converted the 'Date' column to datetime format to facilitate temporal analysis.\n",
        "Data Inspection:\n",
        "Reviewed summary statistics of the cleaned dataset to gain insights into the distribution and central tendency of numerical variables."
      ],
      "metadata": {
        "id": "LbyXE7I1olp8"
      }
    },
    {
      "cell_type": "markdown",
      "source": [
        "## ***4. Data Vizualization, Storytelling & Experimenting with charts : Understand the relationships between variables***"
      ],
      "metadata": {
        "id": "GF8Ens_Soomf"
      }
    },
    {
      "cell_type": "markdown",
      "source": [
        "#### Chart - 1"
      ],
      "metadata": {
        "id": "0wOQAZs5pc--"
      }
    },
    {
      "cell_type": "code",
      "source": [
        "# Plot closing prices over time\n",
        "plt.figure(figsize=(10, 6))\n",
        "plt.plot(df['Date'], df['Close'], marker='o', linestyle='-')\n",
        "plt.title('Stock Prices Over Time')\n",
        "plt.xlabel('Date')\n",
        "plt.ylabel('Closing Price')\n",
        "plt.xticks(rotation=45)\n",
        "plt.grid(True)\n",
        "plt.tight_layout()\n",
        "plt.show()"
      ],
      "metadata": {
        "id": "7v_ESjsspbW7"
      },
      "execution_count": null,
      "outputs": []
    },
    {
      "cell_type": "markdown",
      "source": [
        "##### 1. Why did you pick the specific chart?\n"
      ],
      "metadata": {
        "id": "K5QZ13OEpz2H"
      }
    },
    {
      "cell_type": "markdown",
      "source": [
        "The line plot of closing stock prices over time was selected because it effectively illustrates the trend and fluctuations in stock prices over the observed period. This visualization is particularly relevant for datasets containing temporal data, such as stock price histories, as it allows for easy interpretation of trends and patterns over time. Additionally, line plots are simple, clear, and intuitive, making them suitable for a wide audience. By highlighting trends in the data, this type of chart facilitates informed decision-making and analysis for stakeholders and analysts.\n",
        "\n",
        "\n",
        "\n",
        "\n",
        "\n",
        "\n"
      ],
      "metadata": {
        "id": "XESiWehPqBRc"
      }
    },
    {
      "cell_type": "markdown",
      "source": [
        "##### 2. What is/are the insight(s) found from the chart?"
      ],
      "metadata": {
        "id": "lQ7QKXXCp7Bj"
      }
    },
    {
      "cell_type": "markdown",
      "source": [
        "The line plot of closing stock prices over time reveals key insights into the historical performance of the stock. It allows us to identify trends, seasonality, volatility, turning points, and anomalies in the data. By analyzing the plot, we can make informed decisions regarding investments, risk management, and further analysis of factors influencing stock price movements.\n",
        "\n",
        "\n",
        "\n",
        "\n",
        "\n",
        "\n"
      ],
      "metadata": {
        "id": "C_j1G7yiqdRP"
      }
    },
    {
      "cell_type": "markdown",
      "source": [
        "##### 3. Will the gained insights help creating a positive business impact?\n",
        "Are there any insights that lead to negative growth? Justify with specific reason."
      ],
      "metadata": {
        "id": "448CDAPjqfQr"
      }
    },
    {
      "cell_type": "markdown",
      "source": [
        "The insights gained from analyzing the line plot of closing stock prices over time can potentially have both positive and negative impacts on business decisions. Here's how:\n",
        "\n",
        "Positive Impact:\n",
        "\n",
        "1.Trend Identification: Identifying upward trends in stock prices can provide opportunities for investors to capitalize on potential profit gains by buying stocks early and selling them at a higher price later.\n",
        "\n",
        "2.Seasonality and Volatility: Understanding seasonal patterns and volatility can help businesses anticipate market movements and adjust their investment strategies accordingly. It allows them to optimize their portfolio allocation and minimize risks.\n",
        "\n",
        "3.Turning Points: Recognizing turning points can help businesses make timely decisions, such as adjusting investment positions or implementing hedging strategies to protect against potential losses.\n",
        "\n",
        "Negative Impact:\n",
        "\n",
        "1.Anomalies: Anomalies in the data, such as outliers or irregular patterns, may indicate underlying issues or events that could negatively impact the stock's performance. For example, a sudden drop in stock prices could be due to adverse market conditions, poor company performance, or negative news.\n",
        "\n",
        "2.High Volatility: While volatility can present opportunities for profit, it also carries increased risk. High volatility may lead to greater uncertainty and instability in the market, potentially resulting in losses for investors who are unable to manage risk effectively.\n",
        "\n",
        "3.Negative Growth: If the analysis reveals a consistent downward trend in stock prices over time, it could signal underlying problems within the company or broader economic factors affecting the industry. This negative growth trend may lead to decreased investor confidence, reduced capital inflows, and ultimately, a decline in business performance.\n",
        "\n",
        "\n",
        "In summary, while insights gained from analyzing stock price data can help businesses make informed decisions and capitalize on opportunities, they also carry inherent risks. It's essential for businesses to carefully consider and evaluate these insights in the context of their overall investment strategy, risk tolerance, and long-term business objectives to mitigate potential negative impacts and maximize positive outcomes.\n",
        "\n",
        "\n",
        "\n",
        "\n",
        "\n",
        "\n",
        "\n"
      ],
      "metadata": {
        "id": "3cspy4FjqxJW"
      }
    },
    {
      "cell_type": "markdown",
      "source": [
        "#### Chart - 2"
      ],
      "metadata": {
        "id": "KSlN3yHqYklG"
      }
    },
    {
      "cell_type": "code",
      "source": [
        "# Chart - 2 visualization code\n"
      ],
      "metadata": {
        "id": "R4YgtaqtYklH"
      },
      "execution_count": null,
      "outputs": []
    },
    {
      "cell_type": "code",
      "source": [
        "plt.figure(figsize=(10, 6))\n",
        "plt.plot(df['Date'], df['Open'], label='Open', color='blue', marker='o')\n",
        "plt.plot(df['Date'], df['High'], label='High', color='green', marker='s')\n",
        "plt.plot(df['Date'], df['Low'], label='Low', color='red', marker='^')\n",
        "plt.plot(df['Date'], df['Close'], label='Close', color='purple', marker='d')\n",
        "\n",
        "# Adding labels and title\n",
        "plt.title('Stock Prices Over Time')\n",
        "plt.xlabel('Date')\n",
        "plt.ylabel('Price')\n",
        "plt.legend()\n",
        "plt.grid(True)\n",
        "plt.xticks(rotation=45)\n",
        "plt.tight_layout()\n",
        "plt.show()\n"
      ],
      "metadata": {
        "id": "70fePMar6v_-"
      },
      "execution_count": null,
      "outputs": []
    },
    {
      "cell_type": "markdown",
      "source": [
        "\n",
        "\n",
        "```\n",
        "# This is formatted as code\n",
        "```\n",
        "\n",
        "##### 1. Why did you pick the specific chart?"
      ],
      "metadata": {
        "id": "t6dVpIINYklI"
      }
    },
    {
      "cell_type": "markdown",
      "source": [
        "The line plot was chosen for Chart 2 as it effectively illustrates trends and fluctuations in the 'Open', 'High', 'Low', and 'Close' prices over time. Its simplicity, clarity, and ability to facilitate comparison make it a suitable choice for conveying this information to a broad audience. Additionally, its flexibility allows for customization to enhance visual appeal and interpretability.\n",
        "\n",
        "\n",
        "\n",
        "\n",
        "\n",
        "\n"
      ],
      "metadata": {
        "id": "5aaW0BYyYklI"
      }
    },
    {
      "cell_type": "markdown",
      "source": [
        "##### 2. What is/are the insight(s) found from the chart?"
      ],
      "metadata": {
        "id": "ijmpgYnKYklI"
      }
    },
    {
      "cell_type": "markdown",
      "source": [
        "The line plot of 'Open', 'High', 'Low', and 'Close' prices over time reveals insights into market trends, volatility, price levels, and intraday price movements. Trends in price movements, volatility levels, and price relationships can be observed, aiding in making informed investment decisions.\n",
        "\n",
        "\n",
        "\n",
        "\n",
        "\n",
        "\n"
      ],
      "metadata": {
        "id": "PSx9atu2YklI"
      }
    },
    {
      "cell_type": "markdown",
      "source": [
        "##### 3. Will the gained insights help creating a positive business impact?\n",
        "Are there any insights that lead to negative growth? Justify with specific reason."
      ],
      "metadata": {
        "id": "-JiQyfWJYklI"
      }
    },
    {
      "cell_type": "markdown",
      "source": [
        "The insights gained from analyzing the line plot of 'Open', 'High', 'Low', and 'Close' prices over time can indeed help create a positive business impact in several ways:\n",
        "\n",
        "Positive Impact:\n",
        "\n",
        "1.Informed Decision-Making: Understanding market trends and volatility levels enables businesses to make informed investment decisions, potentially leading to profitable outcomes.\n",
        "\n",
        "2.Optimized Trading Strategies: Insights into price levels, support/resistance levels, and intraday price movements can assist in developing optimized trading strategies, improving trading performance.\n",
        "\n",
        "3.Risk Management: Knowledge of market dynamics allows for the implementation of effective risk management strategies, minimizing losses during volatile market conditions.\n",
        "\n",
        "4.Competitive Advantage: Businesses that can interpret market insights effectively gain a competitive edge, attracting investors and stakeholders and enhancing market position.\n",
        "\n",
        "5.Investor Confidence: Demonstrating a thorough understanding of market trends and making data-driven decisions enhances investor confidence, leading to increased capital inflows and business growth.\n",
        "\n",
        "However, there are certain insights that, if not managed properly, could lead to negative growth:\n",
        "\n",
        "Negative Impact:\n",
        "\n",
        "1.High Volatility: While volatility presents trading opportunities, excessive volatility can lead to increased risk and potential losses if not managed effectively. Rapid and unpredictable price movements can destabilize financial positions and erode investor confidence.\n",
        "\n",
        "2.Downtrends: Prolonged downtrends in prices could indicate underlying issues within the business or broader economic factors affecting the industry. Continued negative growth may lead to reduced investor confidence, decreased capital inflows, and business decline.\n",
        "\n",
        "Overall, while the insights gained from analyzing stock price data offer significant opportunities for positive business impact, it's crucial for businesses to manage risks associated with volatility and negative growth trends effectively to avoid adverse outcomes. Strategic decision-making, risk management practices, and adaptation to changing market conditions are essential for navigating both positive and negative aspects of market insights."
      ],
      "metadata": {
        "id": "BcBbebzrYklV"
      }
    },
    {
      "cell_type": "markdown",
      "source": [
        "#### Chart - 3"
      ],
      "metadata": {
        "id": "EM7whBJCYoAo"
      }
    },
    {
      "cell_type": "code",
      "source": [
        "# Chart - 3 visualization code\n",
        "\n",
        "# Adding labels and title\n",
        "plt.figure(figsize=(10, 6))\n",
        "plt.plot(df['Date'], df['Open'], label='Open', color='blue', marker='o')\n",
        "plt.plot(df['Date'], df['Close'], label='Close', color='red', marker='s')\n",
        "\n",
        "# Adding labels and title\n",
        "plt.title('Open vs Close Prices Over Time')\n",
        "plt.xlabel('Date')\n",
        "plt.ylabel('Price')\n",
        "plt.legend()\n",
        "plt.grid(True)\n",
        "plt.xticks(rotation=45)\n",
        "plt.tight_layout()\n",
        "plt.show()"
      ],
      "metadata": {
        "id": "t6GMdE67YoAp"
      },
      "execution_count": null,
      "outputs": []
    },
    {
      "cell_type": "markdown",
      "source": [
        "##### 1. Why did you pick the specific chart?"
      ],
      "metadata": {
        "id": "fge-S5ZAYoAp"
      }
    },
    {
      "cell_type": "markdown",
      "source": [
        "The line plot comparing 'Open' and 'Close' prices over time was chosen for its effectiveness in illustrating the relationship between these variables within a given time period. This visualization allows for easy comparison of the opening and closing prices, aiding in trend identification, intraday movement analysis, and providing a clear representation of the data. It is a valuable tool for traders and investors in understanding market sentiment and making informed trading decisions."
      ],
      "metadata": {
        "id": "5dBItgRVYoAp"
      }
    },
    {
      "cell_type": "markdown",
      "source": [
        "##### 2. What is/are the insight(s) found from the chart?"
      ],
      "metadata": {
        "id": "85gYPyotYoAp"
      }
    },
    {
      "cell_type": "markdown",
      "source": [
        "The insights gained from the line plot comparing 'Open' and 'Close' prices over time include:\n",
        "\n",
        "1.Trend Identification: By observing the relative positions of the 'Open' and 'Close' lines, insights into the overall trend of the stock price can be inferred. For example, if the 'Close' price consistently exceeds the 'Open' price, it suggests bullish sentiment, while the opposite indicates bearish sentiment.\n",
        "\n",
        "2.Intraday Movement: Analysis of the plot reveals the intraday movement of the stock price, indicating whether the price tends to increase or decrease from its opening to closing. This information is valuable for traders in understanding market sentiment and making trading decisions.\n",
        "\n",
        "3.Price Relationship: Comparison of 'Open' and 'Close' prices provides insights into the relationship between the opening and closing prices. Patterns such as gaps between the two lines or convergence/divergence of the lines may indicate specific market conditions or trading dynamics.\n",
        "\n",
        "4.Volatility: Variations in the distance between the 'Open' and 'Close' lines over time can indicate changes in volatility. Wider gaps may suggest increased volatility, while narrower gaps may indicate reduced volatility.\n",
        "\n",
        "Overall, the line plot comparing 'Open' and 'Close' prices provides valuable insights into intraday price movements, price relationships"
      ],
      "metadata": {
        "id": "4jstXR6OYoAp"
      }
    },
    {
      "cell_type": "markdown",
      "source": [
        "##### 3. Will the gained insights help creating a positive business impact?\n",
        "Are there any insights that lead to negative growth? Justify with specific reason."
      ],
      "metadata": {
        "id": "RoGjAbkUYoAp"
      }
    },
    {
      "cell_type": "markdown",
      "source": [
        "The insights gained from the line plot comparing 'Open' and 'Close' prices over time can potentially have both positive and negative impacts on business outcomes:\n",
        "\n",
        "Positive Impact:\n",
        "\n",
        "1.Informed Trading Decisions: Understanding the relationship between 'Open' and 'Close' prices helps traders make informed decisions about entering or exiting positions, potentially leading to profitable trades and positive returns on investment.\n",
        "\n",
        "2.Market Sentiment Analysis: Insights into intraday price movements and trends can provide valuable information about market sentiment, allowing businesses to adapt their strategies accordingly and capitalize on emerging opportunities.\n",
        "\n",
        "3.Risk Management: By identifying patterns of price movement and volatility, businesses can implement effective risk management strategies to mitigate losses and protect their assets in fluctuating market conditions.\n",
        "\n",
        "Negative Impact:\n",
        "\n",
        "1.Losses Due to Volatility: While volatility presents trading opportunities, it also carries increased risk. Wide fluctuations between 'Open' and 'Close' prices may lead to losses if not managed effectively, potentially resulting in negative growth for businesses.\n",
        "\n",
        "2.Adverse Market Conditions: Persistent trends of declining 'Open' and 'Close' prices may indicate broader market downturns or economic instability, negatively impacting business performance and growth prospects.\n",
        "\n",
        "Overall, while the insights gained from analyzing 'Open' and 'Close' prices can help inform trading decisions and manage risks, businesses must be mindful of potential negative impacts, such as losses due to volatility and adverse market conditions. Strategic decision-making and risk management practices are essential for navigating both positive and negative aspects of market insights."
      ],
      "metadata": {
        "id": "zfJ8IqMcYoAp"
      }
    },
    {
      "cell_type": "markdown",
      "source": [
        "#### Chart - 4"
      ],
      "metadata": {
        "id": "4Of9eVA-YrdM"
      }
    },
    {
      "cell_type": "code",
      "source": [
        "# Chart - 4 visualization code\n",
        "plt.figure(figsize=(10, 6))\n",
        "plt.plot(df['Date'], df['High'], label='High', color='green', marker='o')\n",
        "plt.plot(df['Date'], df['Low'], label='Low', color='red', marker='s')\n",
        "\n",
        "# Adding labels and title\n",
        "plt.title('High vs Low Prices Over Time')\n",
        "plt.xlabel('Date')\n",
        "plt.ylabel('Price')\n",
        "plt.legend()\n",
        "plt.grid(True)\n",
        "plt.xticks(rotation=45)\n",
        "plt.tight_layout()\n",
        "plt.show()"
      ],
      "metadata": {
        "id": "irlUoxc8YrdO"
      },
      "execution_count": null,
      "outputs": []
    },
    {
      "cell_type": "markdown",
      "source": [
        "##### 1. Why did you pick the specific chart?"
      ],
      "metadata": {
        "id": "iky9q4vBYrdO"
      }
    },
    {
      "cell_type": "markdown",
      "source": [
        "I chose to create a line plot comparing 'High' and 'Low' prices over time because it effectively illustrates the range of price movements within a given time period. This visualization allows for easy comparison between the highest and lowest prices reached during each trading day, providing insights into price volatility and potential trading opportunities. It is a straightforward and intuitive way to analyze the price range dynamics and identify patterns or trends in the market."
      ],
      "metadata": {
        "id": "aJRCwT6DYrdO"
      }
    },
    {
      "cell_type": "markdown",
      "source": [
        "##### 2. What is/are the insight(s) found from the chart?"
      ],
      "metadata": {
        "id": "F6T5p64dYrdO"
      }
    },
    {
      "cell_type": "markdown",
      "source": [
        "The insights gained from the line plot comparing 'High' and 'Low' prices over time include:\n",
        "\n",
        "Volatility: The distance between the 'High' and 'Low' lines indicates the level of price volatility within each time period. Wider gaps suggest higher volatility, while narrower gaps indicate lower volatility.\n",
        "\n",
        "Price Range: Analysis of the plot reveals the range of price movements during each trading day. Understanding the price range helps traders assess potential profit opportunities and set appropriate entry and exit points for trades.\n",
        "\n",
        "Intraday Fluctuations: Observing fluctuations in the 'High' and 'Low' lines provides insights into intraday price movements. Patterns such as consecutive higher highs and higher lows may indicate bullish momentum, while lower highs and lower lows may suggest bearish sentiment.\n",
        "\n",
        "Support and Resistance Levels: Identifying significant 'Low' points can help identify potential support levels, while 'High' points may indicate resistance levels. These levels are crucial for making trading decisions and managing risk.\n",
        "\n",
        "Overall, the line plot comparing 'High' and 'Low' prices over time offers valuable insights into price volatility, intraday fluctuations, and potential support and resistance levels, aiding traders in making informed decisions and optimizing their trading strategies."
      ],
      "metadata": {
        "id": "Xx8WAJvtYrdO"
      }
    },
    {
      "cell_type": "markdown",
      "source": [
        "##### 3. Will the gained insights help creating a positive business impact?\n",
        "Are there any insights that lead to negative growth? Justify with specific reason."
      ],
      "metadata": {
        "id": "y-Ehk30pYrdP"
      }
    },
    {
      "cell_type": "markdown",
      "source": [
        "The insights gained from analyzing the line plot comparing 'High' and 'Low' prices over time can potentially have both positive and negative impacts on business outcomes:\n",
        "\n",
        "Positive Impact:\n",
        "\n",
        "1.Informed Trading Decisions: Understanding price volatility and intraday fluctuations helps traders make informed decisions about entering or exiting positions, potentially leading to profitable trades and positive returns on investment.\n",
        "\n",
        "2.Market Sentiment Analysis: Insights into price ranges and support/resistance levels provide valuable information about market sentiment, enabling businesses to adapt their strategies accordingly and capitalize on emerging opportunities.\n",
        "\n",
        "3.Risk Management: By identifying significant support and resistance levels, businesses can implement effective risk management strategies to mitigate losses and protect their assets in fluctuating market conditions.\n",
        "\n",
        "4.Enhanced Trading Strategies: Utilizing insights from the plot, businesses can develop enhanced trading strategies that capitalize on price volatility and intraday fluctuations, potentially leading to improved trading performance.\n",
        "Negative Impact:\n",
        "\n",
        "1.Losses Due to Volatility: Excessive price volatility can lead to increased risk and potential losses if not managed effectively. Wide fluctuations between 'High' and 'Low' prices may result in losses for businesses, negatively impacting their financial performance.\n",
        "\n",
        "2.Unfavorable Market Conditions: Prolonged periods of high volatility or downward price trends may indicate adverse market conditions, leading to negative growth for businesses operating in those markets. In such cases, businesses may experience reduced profitability and decreased investor confidence.\n",
        "\n",
        "Overall, while the insights gained from analyzing 'High' and 'Low' prices can help inform trading decisions and manage risks, businesses must be mindful of potential negative impacts, such as losses due to volatility and unfavorable market conditions. Strategic decision-making and risk management practices are essential for navigating both positive and negative aspects of market insights."
      ],
      "metadata": {
        "id": "jLNxxz7MYrdP"
      }
    },
    {
      "cell_type": "markdown",
      "source": [
        "#### Chart - 5"
      ],
      "metadata": {
        "id": "bamQiAODYuh1"
      }
    },
    {
      "cell_type": "code",
      "source": [
        "# Chart - 5 visualization code\n",
        "plt.figure(figsize=(10, 6))\n",
        "plt.plot(df['Date'], df['Open'], label='Open', color='blue', marker='o')\n",
        "plt.plot(df['Date'], df['High'], label='High', color='green', marker='s')\n",
        "\n",
        "# Adding labels and title\n",
        "plt.title('Open vs High Prices Over Time')\n",
        "plt.xlabel('Date')\n",
        "plt.ylabel('Price')\n",
        "plt.legend()\n",
        "plt.grid(True)\n",
        "plt.xticks(rotation=45)\n",
        "plt.tight_layout()\n",
        "plt.show()"
      ],
      "metadata": {
        "id": "TIJwrbroYuh3"
      },
      "execution_count": null,
      "outputs": []
    },
    {
      "cell_type": "markdown",
      "source": [
        "##### 1. Why did you pick the specific chart?"
      ],
      "metadata": {
        "id": "QHF8YVU7Yuh3"
      }
    },
    {
      "cell_type": "markdown",
      "source": [
        "I chose to create a line plot comparing 'Open' and 'High' prices over time because it effectively illustrates the relationship between the opening price and the highest price reached during each trading day within a given time period. This visualization allows for easy comparison between these two key price points, providing insights into intraday price movements and potential trading opportunities. It is a straightforward and intuitive way to analyze the price dynamics and identify patterns or trends in the market."
      ],
      "metadata": {
        "id": "dcxuIMRPYuh3"
      }
    },
    {
      "cell_type": "markdown",
      "source": [
        "##### 2. What is/are the insight(s) found from the chart?"
      ],
      "metadata": {
        "id": "GwzvFGzlYuh3"
      }
    },
    {
      "cell_type": "markdown",
      "source": [
        "The insights gained from the line plot comparing 'Open' and 'High' prices over time include:\n",
        "\n",
        "1.Intraday Range: Observation of the difference between 'Open' and 'High' prices indicates the range of price movement during each trading day.\n",
        "\n",
        "2.Price Momentum: Consistent patterns of 'High' prices exceeding 'Open' prices may suggest bullish momentum, while the opposite may indicate bearish sentiment.\n",
        "\n",
        "3.Trading Opportunities: Understanding the relationship between 'Open' and 'High' prices helps traders identify potential entry or exit points for trades based on intraday price movements.\n",
        "\n",
        "4.Volatility Analysis: Fluctuations in the gap between 'Open' and 'High' prices provide insights into market volatility, which is valuable for risk assessment and strategy development."
      ],
      "metadata": {
        "id": "uyqkiB8YYuh3"
      }
    },
    {
      "cell_type": "markdown",
      "source": [
        "##### 3. Will the gained insights help creating a positive business impact?\n",
        "Are there any insights that lead to negative growth? Justify with specific reason."
      ],
      "metadata": {
        "id": "qYpmQ266Yuh3"
      }
    },
    {
      "cell_type": "markdown",
      "source": [
        "The insights gained from analyzing the relationship between 'Open' and 'High' prices over time can potentially lead to positive business impacts:\n",
        "\n",
        "Positive Impact:\n",
        "\n",
        "1.Informed Trading Decisions: Understanding the intraday range and price momentum helps traders make informed decisions about entering or exiting positions, potentially leading to profitable trades and positive returns on investment.\n",
        "\n",
        "2.Market Sentiment Analysis: Insights into price momentum and volatility enable businesses to assess market sentiment accurately, allowing them to adapt their strategies accordingly and capitalize on\n",
        "emerging opportunities.\n",
        "\n",
        "3.Enhanced Risk Management: By understanding market volatility and intraday price movements, businesses can implement effective risk management strategies to mitigate losses and protect their assets in fluctuating market conditions.\n",
        "\n",
        "4.Improved Trading Strategies: Utilizing insights from the relationship between 'Open' and 'High' prices, businesses can develop enhanced trading strategies that leverage intraday price movements and capitalize on market trends, potentially leading to improved trading performance.\n",
        "\n",
        "However, there are potential negative impacts to consider:\n",
        "\n",
        "Negative Impact:\n",
        "\n",
        "1.Losses Due to Volatility: Excessive market volatility can lead to increased risk and potential losses if not managed effectively. Wide fluctuations between 'Open' and 'High' prices may result in losses for businesses, negatively impacting their financial performance.\n",
        "\n",
        "2.Market Downturns: Prolonged periods of bearish sentiment, where 'Open' prices consistently exceed 'High' prices, may indicate broader market downturns or economic instability. In such cases, businesses may experience reduced profitability and negative growth.\n",
        "\n",
        "3.Incorrect Analysis: Misinterpreting intraday price movements or failing to account for market volatility can lead to poor trading decisions and negative business outcomes.\n",
        "\n",
        "Overall, while the insights gained from analyzing the relationship between 'Open' and 'High' prices can help inform trading decisions and manage risks, businesses must exercise caution and consider potential negative impacts, such as losses due to volatility and adverse market conditions. Strategic decision-making and risk management practices are essential for navigating both positive and negative aspects of market insights."
      ],
      "metadata": {
        "id": "_WtzZ_hCYuh4"
      }
    },
    {
      "cell_type": "markdown",
      "source": [
        "#### Chart - 6"
      ],
      "metadata": {
        "id": "OH-pJp9IphqM"
      }
    },
    {
      "cell_type": "code",
      "source": [
        "# Chart - 6 visualization code\n",
        "plt.figure(figsize=(10, 6))\n",
        "plt.plot(df['Date'], df['High'], label='High', color='green', marker='o')\n",
        "plt.plot(df['Date'], df['Low'], label='Low', color='red', marker='s')\n",
        "\n",
        "# Adding labels and title\n",
        "plt.title('High vs Low Prices Over Time')\n",
        "plt.xlabel('Date')\n",
        "plt.ylabel('Price')\n",
        "plt.legend()\n",
        "plt.grid(True)\n",
        "plt.xticks(rotation=45)\n",
        "plt.tight_layout()\n",
        "plt.show()"
      ],
      "metadata": {
        "id": "kuRf4wtuphqN"
      },
      "execution_count": null,
      "outputs": []
    },
    {
      "cell_type": "markdown",
      "source": [
        "##### 1. Why did you pick the specific chart?"
      ],
      "metadata": {
        "id": "bbFf2-_FphqN"
      }
    },
    {
      "cell_type": "markdown",
      "source": [
        "I chose to create a line plot comparing 'High' and 'Low' prices over time because it effectively illustrates the price range within each trading day over a given period. This visualization allows for easy comparison between the highest and lowest prices reached during each trading session, providing insights into price volatility and potential trading opportunities. It is a straightforward and intuitive way to analyze the price dynamics and identify patterns or trends in the market."
      ],
      "metadata": {
        "id": "loh7H2nzphqN"
      }
    },
    {
      "cell_type": "markdown",
      "source": [
        "##### 2. What is/are the insight(s) found from the chart?"
      ],
      "metadata": {
        "id": "_ouA3fa0phqN"
      }
    },
    {
      "cell_type": "markdown",
      "source": [
        "The insights gained from the line plot comparing 'High' and 'Low' prices over time include:\n",
        "\n",
        "Volatility: The distance between the 'High' and 'Low' lines indicates the range of price movement during each trading day. Wider gaps suggest higher volatility, while narrower gaps indicate lower volatility.\n",
        "\n",
        "Price Range: Analysis of the plot reveals the range of price fluctuations within each trading session. Understanding the price range helps traders assess potential profit opportunities and set appropriate entry and exit points for trades.\n",
        "\n",
        "Intraday Fluctuations: Observing fluctuations in the 'High' and 'Low' lines provides insights into intraday price movements. Patterns such as consecutive higher highs and higher lows may indicate bullish momentum, while lower highs and lower lows may suggest bearish sentiment.\n",
        "\n",
        "Support and Resistance Levels: Identifying significant 'Low' points can help identify potential support levels, while 'High' points may indicate resistance levels. These levels are crucial for making trading decisions and managing risk.\n",
        "\n",
        "Overall, the line plot comparing 'High' and 'Low' prices over time offers valuable insights into price volatility, intraday fluctuations, and potential support and resistance levels, aiding traders in making informed decisions and optimizing their trading strategies."
      ],
      "metadata": {
        "id": "VECbqPI7phqN"
      }
    },
    {
      "cell_type": "markdown",
      "source": [
        "##### 3. Will the gained insights help creating a positive business impact?\n",
        "Are there any insights that lead to negative growth? Justify with specific reason."
      ],
      "metadata": {
        "id": "Seke61FWphqN"
      }
    },
    {
      "cell_type": "markdown",
      "source": [
        "the insights gained from analyzing the relationship between 'High' and 'Low' prices over time can potentially lead to positive business impacts:\n",
        "\n",
        "Positive Impact:\n",
        "\n",
        "1.Informed Trading Decisions: Understanding price volatility and intraday fluctuations helps traders make informed decisions about entering or exiting positions, potentially leading to profitable trades and positive returns on investment.\n",
        "\n",
        "2.Market Sentiment Analysis: Insights into price volatility and support/resistance levels enable businesses to assess market sentiment accurately, allowing them to adapt their strategies accordingly and capitalize on emerging opportunities.\n",
        "\n",
        "3.Enhanced Risk Management: By understanding market volatility and intraday price movements, businesses can implement effective risk management strategies to mitigate losses and protect their assets in fluctuating market conditions.\n",
        "\n",
        "4.Improved Trading Strategies: Utilizing insights from the relationship between 'High' and 'Low' prices, businesses can develop enhanced trading strategies that capitalize on price volatility and intraday fluctuations, potentially leading to improved trading performance.\n",
        "However, there are potential negative impacts to consider:\n",
        "\n",
        "Negative Impact:\n",
        "\n",
        "1.Losses Due to Volatility: Excessive market volatility can lead to increased risk and potential losses if not managed effectively. Wide fluctuations between 'High' and 'Low' prices may result in losses for businesses, negatively impacting their financial performance.\n",
        "\n",
        "2.Incorrect Analysis: Misinterpreting intraday price movements or failing to account for market volatility can lead to poor trading decisions and negative business outcomes.\n",
        "\n",
        "3.Market Downturns: Prolonged periods of bearish sentiment, where 'Low' prices consistently exceed 'High' prices, may indicate broader market downturns or economic instability. In such cases, businesses may experience reduced profitability and negative growth.\n",
        "\n",
        "Overall, while the insights gained from analyzing the relationship between 'High' and 'Low' prices can help inform trading decisions and manage risks, businesses must exercise caution and consider potential negative impacts, such as losses due to volatility and adverse market conditions. Strategic decision-making and risk management practices are essential for navigating both positive and negative aspects of market insights."
      ],
      "metadata": {
        "id": "DW4_bGpfphqN"
      }
    },
    {
      "cell_type": "markdown",
      "source": [
        "#### Chart - 7"
      ],
      "metadata": {
        "id": "PIIx-8_IphqN"
      }
    },
    {
      "cell_type": "code",
      "source": [
        "# Chart - 7 visualization code\n",
        "plt.figure(figsize=(10, 6))\n",
        "plt.plot(df['Date'], df['Low'], label='Low', color='red', marker='o')\n",
        "plt.plot(df['Date'], df['Close'], label='Close', color='blue', marker='s')\n",
        "\n",
        "# Adding labels and title\n",
        "plt.title('Low vs Close Prices Over Time')\n",
        "plt.xlabel('Date')\n",
        "plt.ylabel('Price')\n",
        "plt.legend()\n",
        "plt.grid(True)\n",
        "plt.xticks(rotation=45)\n",
        "plt.tight_layout()\n",
        "plt.show()"
      ],
      "metadata": {
        "id": "lqAIGUfyphqO"
      },
      "execution_count": null,
      "outputs": []
    },
    {
      "cell_type": "markdown",
      "source": [
        "##### 1. Why did you pick the specific chart?"
      ],
      "metadata": {
        "id": "t27r6nlMphqO"
      }
    },
    {
      "cell_type": "markdown",
      "source": [
        "I chose to create a line plot comparing 'Low' and 'Close' prices over time because it effectively illustrates the relationship between the lowest price and the closing price of a stock within each trading day over a given period. This visualization allows for easy comparison between these two key price points, providing insights into intraday price movements and potential trading opportunities. It helps traders and investors understand the price dynamics throughout the trading day and can aid in decision-making regarding entry and exit points for trades. Overall, it offers a clear and intuitive representation of the price movements and trends in the market."
      ],
      "metadata": {
        "id": "iv6ro40sphqO"
      }
    },
    {
      "cell_type": "markdown",
      "source": [
        "##### 2. What is/are the insight(s) found from the chart?"
      ],
      "metadata": {
        "id": "r2jJGEOYphqO"
      }
    },
    {
      "cell_type": "markdown",
      "source": [
        "The insights gained from the line plot comparing 'Low' and 'Close' prices over time include:\n",
        "\n",
        "Closing Price Relative to Lowest Price: Observing the relationship between the 'Low' and 'Close' lines provides insights into how the closing price compares to the lowest price reached during each trading day. This comparison can help traders gauge the strength of buying or selling pressure towards the end of the trading session.\n",
        "\n",
        "Intraday Price Movement: Fluctuations in the 'Low' and 'Close' lines reveal intraday price movements, indicating the range of price fluctuations within each trading day. Understanding these movements can help traders assess market sentiment and identify potential trading opportunities.\n",
        "\n",
        "Support and Resistance Levels: Significant 'Low' points may indicate potential support levels, while 'Close' prices near or above the 'Low' prices may suggest bullish sentiment. Conversely, consistently closing below the lowest price may indicate bearish sentiment and potential resistance levels.\n",
        "\n",
        "Trend Confirmation: Patterns such as 'Close' prices consistently exceeding 'Low' prices may confirm an uptrend, while the opposite may confirm a downtrend. These insights into price trends can help traders make informed decisions about market entry and exit points.\n",
        "\n",
        "Overall, analyzing the relationship between 'Low' and 'Close' prices over time provides valuable insights into intraday price dynamics, support and resistance levels, and potential trend confirmations, aiding traders in making informed trading decisions."
      ],
      "metadata": {
        "id": "Po6ZPi4hphqO"
      }
    },
    {
      "cell_type": "markdown",
      "source": [
        "##### 3. Will the gained insights help creating a positive business impact?\n",
        "Are there any insights that lead to negative growth? Justify with specific reason."
      ],
      "metadata": {
        "id": "b0JNsNcRphqO"
      }
    },
    {
      "cell_type": "markdown",
      "source": [
        "the insights gained from analyzing the relationship between 'Low' and 'Close' prices over time can potentially lead to positive business impacts:\n",
        "\n",
        "Positive Impact:\n",
        "\n",
        "1.Informed Trading Decisions: Understanding the relationship between 'Low' and 'Close' prices helps traders make informed decisions about entering or exiting positions, potentially leading to profitable trades and positive returns on investment.\n",
        "\n",
        "2.Market Sentiment Analysis: Insights into intraday price movements and the closing price relative to the lowest price enable businesses to assess market sentiment accurately, allowing them to adapt their strategies accordingly and capitalize on emerging opportunities.\n",
        "\n",
        "3.Enhanced Risk Management: By identifying potential support and resistance levels based on 'Low' and 'Close' prices, businesses can implement effective risk management strategies to mitigate losses and protect their assets in fluctuating market conditions.\n",
        "\n",
        "4.Improved Trading Strategies: Utilizing insights from the relationship between 'Low' and 'Close' prices, businesses can develop enhanced trading strategies that capitalize on intraday price dynamics and potential trend confirmations, potentially leading to improved trading performance.\n",
        "However, there are potential negative impacts to consider:\n",
        "\n",
        "Negative Impact:\n",
        "\n",
        "1.Losses Due to False Signals: Misinterpreting the relationship between 'Low' and 'Close' prices or relying solely on this analysis without considering other factors may lead to false signals and poor trading decisions, resulting in losses for businesses.\n",
        "\n",
        "2.Market Volatility: Excessive market volatility can lead to increased risk and potential losses if not managed effectively. Wide fluctuations between 'Low' and 'Close' prices may result in losses for businesses, negatively impacting their financial performance.\n",
        "\n",
        "3.Economic Downturns: Prolonged periods of bearish sentiment, where 'Close' prices consistently fall below 'Low' prices, may indicate broader market downturns or economic instability. In such cases, businesses may experience reduced profitability and negative growth.\n",
        "\n",
        "Overall, while the insights gained from analyzing the relationship between 'Low' and 'Close' prices can help inform trading decisions and manage risks, businesses must exercise caution and consider potential negative impacts, such as losses due to false signals and adverse market conditions. Strategic decision-making and risk management practices are essential for navigating both positive and negative aspects of market insights."
      ],
      "metadata": {
        "id": "xvSq8iUTphqO"
      }
    },
    {
      "cell_type": "markdown",
      "source": [
        "#### Chart - 8"
      ],
      "metadata": {
        "id": "BZR9WyysphqO"
      }
    },
    {
      "cell_type": "code",
      "source": [
        "# Chart - 8 visualization code\n",
        "\n",
        "plt.figure(figsize=(10, 6))\n",
        "plt.plot(df['Date'], df['Open'], marker='o', color='blue')\n",
        "\n",
        "# Adding labels and title\n",
        "plt.title('Date vs Open Prices')\n",
        "plt.xlabel('Date')\n",
        "plt.ylabel('Open Price')\n",
        "plt.grid(True)\n",
        "plt.xticks(rotation=45)\n",
        "plt.tight_layout()\n",
        "plt.show()"
      ],
      "metadata": {
        "id": "TdPTWpAVphqO"
      },
      "execution_count": null,
      "outputs": []
    },
    {
      "cell_type": "markdown",
      "source": [
        "##### 1. Why did you pick the specific chart?"
      ],
      "metadata": {
        "id": "jj7wYXLtphqO"
      }
    },
    {
      "cell_type": "markdown",
      "source": [
        "I chose to create a line plot showing the relationship between 'Date' and 'Open' prices over time because it effectively illustrates the opening prices of a stock or asset on different dates. This visualization allows for easy observation of how the opening prices fluctuate over time, providing insights into the overall trend and volatility of the market. It is a straightforward and intuitive way to analyze the historical performance of an asset's opening prices and identify any patterns or trends that may exist."
      ],
      "metadata": {
        "id": "Ob8u6rCTphqO"
      }
    },
    {
      "cell_type": "markdown",
      "source": [
        "##### 2. What is/are the insight(s) found from the chart?"
      ],
      "metadata": {
        "id": "eZrbJ2SmphqO"
      }
    },
    {
      "cell_type": "markdown",
      "source": [
        "The insights gained from the line plot showing the relationship between 'Date' and 'Open' prices include:\n",
        "\n",
        "Trend Analysis: Observing the overall direction of the line plot can provide insights into the general trend of the opening prices over time. For example, if the line slopes upwards, it suggests an increasing trend in opening prices, whereas a downward slope indicates a decreasing trend.\n",
        "\n",
        "Volatility Assessment: Variations in the amplitude or frequency of price fluctuations over time can indicate changes in market volatility. Wide fluctuations may suggest periods of high volatility, while narrower fluctuations may indicate relatively stable market conditions.\n",
        "\n",
        "Pattern Identification: Examining the plot may reveal recurring patterns or cycles in opening prices over time. Identifying these patterns can help traders anticipate future price movements and develop effective trading strategies.\n",
        "\n",
        "Outlier Detection: Any significant deviations or outliers from the general trend may signal important events or developments in the market. These outliers could potentially represent opportunities or risks that warrant further investigation.\n",
        "\n",
        "Overall, the line plot provides valuable insights into the historical performance of opening prices, enabling traders and investors to make more informed decisions based on past price behavior.\n",
        "\n",
        "\n",
        "\n",
        "\n",
        "\n",
        "\n"
      ],
      "metadata": {
        "id": "mZtgC_hjphqO"
      }
    },
    {
      "cell_type": "markdown",
      "source": [
        "##### 3. Will the gained insights help creating a positive business impact?\n",
        "Are there any insights that lead to negative growth? Justify with specific reason."
      ],
      "metadata": {
        "id": "rFu4xreNphqO"
      }
    },
    {
      "cell_type": "markdown",
      "source": [
        "The insights gained from analyzing the relationship between 'Date' and 'Open' prices can potentially lead to positive business impacts, but there are also considerations for potential negative growth:\n",
        "\n",
        "Positive Impact:\n",
        "\n",
        "1.Informed Trading Decisions: Understanding the historical performance of opening prices can help traders make informed decisions about entering or exiting positions, potentially leading to profitable trades and positive returns on investment.\n",
        "\n",
        "2.Market Sentiment Analysis: Insights into trends and volatility in opening prices enable businesses to assess market sentiment accurately, allowing them to adjust their strategies accordingly and capitalize on emerging opportunities.\n",
        "\n",
        "3.Enhanced Risk Management: By understanding market volatility and historical price behavior, businesses can implement effective risk management strategies to mitigate losses and protect their assets in fluctuating market conditions.\n",
        "\n",
        "4.Improved Trading Strategies: Utilizing insights from the relationship between 'Date' and 'Open' prices, businesses can develop enhanced trading strategies that capitalize on historical price patterns and market dynamics, potentially leading to improved trading performance.\n",
        "\n",
        "Negative Impact:\n",
        "\n",
        "1.Losses Due to Misinterpretation: Misinterpreting historical price data or failing to account for market dynamics can lead to poor trading decisions and potential losses for businesses. Incorrect analysis of historical price trends may result in negative growth if not rectified promptly.\n",
        "\n",
        "2.Unforeseen Market Events: While historical price data can provide valuable insights, it may not always accurately predict future market behavior. Sudden and unexpected market events or developments could lead to adverse outcomes, resulting in negative growth for businesses.\n",
        "\n",
        "\n",
        "Overall, while the insights gained from analyzing the relationship between 'Date' and 'Open' prices can help inform trading decisions and manage risks, businesses must exercise caution and consider potential negative impacts. Strategic decision-making, ongoing monitoring of market conditions, and adaptability to changing circumstances are essential for maximizing positive business impacts while mitigating risks of negative growth.\n",
        "\n",
        "\n",
        "\n",
        "\n",
        "\n",
        "\n"
      ],
      "metadata": {
        "id": "ey_0qi68phqO"
      }
    },
    {
      "cell_type": "markdown",
      "source": [
        "#### Chart - 9"
      ],
      "metadata": {
        "id": "YJ55k-q6phqO"
      }
    },
    {
      "cell_type": "code",
      "source": [
        "# Chart - 9 visualization code\n",
        "plt.figure(figsize=(10, 6))\n",
        "plt.plot(df['Date'], df['High'], marker='o', linestyle='-')\n",
        "\n",
        "# Adding labels and title\n",
        "plt.title('High Prices Over Time')\n",
        "plt.xlabel('Date')\n",
        "plt.ylabel('High Price')\n",
        "plt.grid(True)\n",
        "plt.xticks(rotation=45)\n",
        "plt.tight_layout()\n",
        "plt.show()"
      ],
      "metadata": {
        "id": "B2aS4O1ophqO"
      },
      "execution_count": null,
      "outputs": []
    },
    {
      "cell_type": "markdown",
      "source": [
        "##### 1. Why did you pick the specific chart?"
      ],
      "metadata": {
        "id": "gCFgpxoyphqP"
      }
    },
    {
      "cell_type": "markdown",
      "source": [
        "I chose to create a line plot comparing 'Date' and 'High' prices over time because it effectively illustrates how the highest price of a stock fluctuates across different dates. This visualization allows for a clear understanding of the trend and variability in high prices over the specified time period. It is a straightforward and intuitive way to analyze the historical high prices of a stock and identify any patterns or trends that may exist."
      ],
      "metadata": {
        "id": "TVxDimi2phqP"
      }
    },
    {
      "cell_type": "markdown",
      "source": [
        "##### 2. What is/are the insight(s) found from the chart?"
      ],
      "metadata": {
        "id": "OVtJsKN_phqQ"
      }
    },
    {
      "cell_type": "markdown",
      "source": [
        "The insights gained from the line plot comparing 'Date' and 'High' prices over time include:\n",
        "\n",
        "Trend Analysis: Observation of the overall trend in high prices over time, such as whether they are increasing, decreasing, or remaining relatively stable. This insight provides valuable information about the general direction of price movements.\n",
        "\n",
        "Volatility Assessment: Analysis of the fluctuations in high prices from one date to another, indicating the level of volatility in the market. Wide swings in high prices suggest high volatility, while smaller fluctuations indicate lower volatility.\n",
        "\n",
        "Identification of Peaks: Identification of specific dates where the high prices reached their peak values. This insight can help traders and investors identify potential points of resistance or psychological barriers in the market.\n",
        "\n",
        "Seasonal or Cyclical Patterns: Detection of any recurring patterns or cycles in high prices over time, which may provide insights into seasonal or cyclical trends in the market.\n",
        "\n",
        "Overall, the line plot comparing 'Date' and 'High' prices over time offers valuable insights into the historical behavior of high prices for a given stock, aiding traders and investors in making informed decisions and developing effective trading strategies.\n",
        "\n",
        "\n",
        "\n",
        "\n",
        "\n",
        "\n"
      ],
      "metadata": {
        "id": "ngGi97qjphqQ"
      }
    },
    {
      "cell_type": "markdown",
      "source": [
        "##### 3. Will the gained insights help creating a positive business impact?\n",
        "Are there any insights that lead to negative growth? Justify with specific reason."
      ],
      "metadata": {
        "id": "lssrdh5qphqQ"
      }
    },
    {
      "cell_type": "markdown",
      "source": [
        "the insights gained from analyzing the relationship between 'Date' and 'High' prices over time can potentially lead to positive business impacts:\n",
        "\n",
        "Positive Impact:\n",
        "\n",
        "1.Informed Trading Decisions: Understanding the trend, volatility, and peak high prices can help traders make informed decisions about buying, selling, or holding positions, potentially leading to profitable trades and positive returns on investment.\n",
        "\n",
        "2.Market Sentiment Analysis: Insights into high price movements provide valuable information about market sentiment and investor behavior, enabling businesses to adapt their strategies accordingly and capitalize on emerging opportunities.\n",
        "\n",
        "3.Risk Management: By understanding market volatility and identifying potential points of resistance, businesses can implement effective risk management strategies to mitigate losses and protect their assets in fluctuating market conditions.\n",
        "\n",
        "4.Enhanced Trading Strategies: Utilizing insights from the relationship between 'Date' and 'High' prices, businesses can develop enhanced trading strategies that capitalize on price trends and fluctuations, potentially leading to improved trading performance.\n",
        "\n",
        "However, there are potential negative impacts to consider:\n",
        "\n",
        "Negative Impact:\n",
        "\n",
        "1.Losses Due to Volatility: Excessive market volatility can lead to increased risk and potential losses if not managed effectively. Wide swings in high prices may result in losses for businesses, negatively impacting their financial performance.\n",
        "\n",
        "2.Incorrect Analysis: Misinterpreting high price movements or failing to account for market volatility can lead to poor trading decisions and negative business outcomes.\n",
        "\n",
        "3.Market Downturns: Prolonged periods of declining high prices may indicate broader market downturns or economic instability. In such cases, businesses may experience reduced profitability and negative growth.\n",
        "\n",
        "Overall, while the insights gained from analyzing the relationship between 'Date' and 'High' prices can help inform trading decisions and manage risks, businesses must exercise caution and consider potential negative impacts, such as losses due to volatility and adverse market conditions. Strategic decision-making and risk management practices are essential for navigating both positive and negative aspects of market insights.\n",
        "\n",
        "\n",
        "\n",
        "\n",
        "\n",
        "\n"
      ],
      "metadata": {
        "id": "tBpY5ekJphqQ"
      }
    },
    {
      "cell_type": "markdown",
      "source": [
        "#### Chart - 10"
      ],
      "metadata": {
        "id": "U2RJ9gkRphqQ"
      }
    },
    {
      "cell_type": "code",
      "source": [
        "# Chart - 10 visualization code\n",
        "plt.figure(figsize=(10, 6))\n",
        "plt.plot(df['Date'], df['Low'], color='red', marker='o', linestyle='-')\n",
        "\n",
        "# Adding labels and title\n",
        "plt.title('Low Prices Over Time')\n",
        "plt.xlabel('Date')\n",
        "plt.ylabel('Low Price')\n",
        "plt.grid(True)\n",
        "plt.xticks(rotation=45)\n",
        "plt.tight_layout()\n",
        "plt.show()"
      ],
      "metadata": {
        "id": "GM7a4YP4phqQ"
      },
      "execution_count": null,
      "outputs": []
    },
    {
      "cell_type": "markdown",
      "source": [
        "##### 1. Why did you pick the specific chart?"
      ],
      "metadata": {
        "id": "1M8mcRywphqQ"
      }
    },
    {
      "cell_type": "markdown",
      "source": [
        "I chose to create a line plot showing the relationship between 'Date' and 'Low' prices over time because it effectively illustrates how the low prices of a stock fluctuate across different dates. This visualization allows for a clear understanding of the trend in low prices over the given time period, providing insights into the overall price movement and potential trading opportunities. It is a straightforward and intuitive way to analyze the historical low prices of a stock and identify patterns or trends in the market.\n",
        "\n",
        "\n",
        "\n",
        "\n",
        "\n",
        "\n"
      ],
      "metadata": {
        "id": "8agQvks0phqQ"
      }
    },
    {
      "cell_type": "markdown",
      "source": [
        "##### 2. What is/are the insight(s) found from the chart?"
      ],
      "metadata": {
        "id": "tgIPom80phqQ"
      }
    },
    {
      "cell_type": "markdown",
      "source": [
        "The insights gained from the line plot of 'Date' versus 'Low' prices over time include:\n",
        "\n",
        "Trend Analysis: Observation of the trend in low prices over time helps identify whether the prices are generally increasing, decreasing, or remaining stable. This insight can guide traders and investors in understanding the overall direction of the market for the given asset.\n",
        "\n",
        "Volatility Assessment: Fluctuations in low prices indicate the level of volatility in the market. Wide swings suggest higher volatility, while narrow fluctuations imply lower volatility. Understanding volatility is crucial for assessing risk and making informed trading decisions.\n",
        "\n",
        "Support Levels Identification: Significant lows in the plot represent potential support levels where the price has historically tended to bounce back or find buying interest. These support levels can be used by traders to set stop-loss orders or as reference points for entry and exit strategies.\n",
        "\n",
        "Pattern Recognition: Analysis of the plot may reveal recurring patterns or cycles in low prices, such as trends, reversals, or consolidations. Recognizing these patterns can help traders anticipate future price movements and formulate effective trading strategies.\n",
        "\n",
        "Overall, the line plot of 'Date' versus 'Low' prices provides valuable insights into price trends, volatility, support levels, and patterns, empowering traders and investors to make well-informed decisions in the financial markets."
      ],
      "metadata": {
        "id": "Qp13pnNzphqQ"
      }
    },
    {
      "cell_type": "markdown",
      "source": [
        "##### 3. Will the gained insights help creating a positive business impact?\n",
        "Are there any insights that lead to negative growth? Justify with specific reason."
      ],
      "metadata": {
        "id": "JMzcOPDDphqR"
      }
    },
    {
      "cell_type": "markdown",
      "source": [
        "the insights gained from analyzing the relationship between 'Date' and 'Low' prices over time can potentially lead to positive business impacts:\n",
        "\n",
        "Positive Impact:\n",
        "\n",
        "1.Informed Trading Decisions: Understanding the trend, volatility, and support levels in low prices helps traders make informed decisions about entering or exiting positions, potentially leading to profitable trades and positive returns on investment.\n",
        "\n",
        "2.Risk Management: Insights into volatility and support levels enable businesses to implement effective risk management strategies, such as setting stop-loss orders or adjusting position sizes, to mitigate potential losses and protect their capital.\n",
        "\n",
        "3.Enhanced Trading Strategies: Utilizing insights from the plot, businesses can develop enhanced trading strategies that capitalize on price trends, volatility patterns, and support levels, potentially leading to improved trading performance and profitability.\n",
        "\n",
        "4.Investor Confidence: Demonstrating a thorough understanding of market dynamics and the ability to make well-informed decisions based on data-driven insights can enhance investor confidence in the business's ability to generate returns and manage risk effectively.\n",
        "\n",
        "However, there are potential negative impacts to consider:\n",
        "\n",
        "Negative Impact:\n",
        "\n",
        "1.Losses Due to Incorrect Analysis: Misinterpreting price trends, volatility patterns, or support levels may lead to poor trading decisions and potential losses for businesses. Incorrect analysis could result in entering or exiting positions at unfavorable prices or failing to effectively manage risk.\n",
        "\n",
        "2.Market Uncertainty: Persistently declining low prices or increased volatility may indicate broader market uncertainty or economic instability, negatively impacting business performance and investor confidence. In such cases, businesses may experience reduced profitability and negative growth.\n",
        "\n",
        "3.Regulatory Risks: In some cases, aggressive trading strategies based on price fluctuations and volatility may expose businesses to regulatory risks, such as scrutiny from regulatory authorities or potential fines for non-compliance.\n",
        "\n",
        "Overall, while the insights gained from analyzing 'Date' versus 'Low' prices can help inform trading decisions and manage risks, businesses must exercise caution and consider potential negative impacts, such as losses due to incorrect analysis or adverse market conditions. Strategic decision-making and risk management practices are essential for leveraging insights effectively and navigating both positive and negative aspects of market dynamics."
      ],
      "metadata": {
        "id": "R4Ka1PC2phqR"
      }
    },
    {
      "cell_type": "markdown",
      "source": [
        "#### Chart - 11"
      ],
      "metadata": {
        "id": "x-EpHcCOp1ci"
      }
    },
    {
      "cell_type": "code",
      "source": [
        "# Chart - 11 visualization code\n",
        "plt.figure(figsize=(10, 6))\n",
        "plt.plot(df['Date'], df['Close'], marker='o', linestyle='-')\n",
        "\n",
        "# Adding labels and title\n",
        "plt.title('Close Prices Over Time')\n",
        "plt.xlabel('Date')\n",
        "plt.ylabel('Close Price')\n",
        "plt.grid(True)\n",
        "plt.xticks(rotation=45)\n",
        "plt.tight_layout()\n",
        "plt.show()"
      ],
      "metadata": {
        "id": "mAQTIvtqp1cj"
      },
      "execution_count": null,
      "outputs": []
    },
    {
      "cell_type": "markdown",
      "source": [
        "##### 1. Why did you pick the specific chart?"
      ],
      "metadata": {
        "id": "X_VqEhTip1ck"
      }
    },
    {
      "cell_type": "markdown",
      "source": [
        "I chose to create a line plot showing the relationship between 'Date' and 'Close' prices over time because it effectively illustrates the trend and variation in closing prices of a financial asset over a specific period. This visualization allows for easy identification of patterns, trends, and potential changes in market sentiment. It provides a clear and intuitive representation of how the closing price of the asset fluctuates over time, which is crucial for understanding market dynamics and making informed investment decisions."
      ],
      "metadata": {
        "id": "-vsMzt_np1ck"
      }
    },
    {
      "cell_type": "markdown",
      "source": [
        "##### 2. What is/are the insight(s) found from the chart?"
      ],
      "metadata": {
        "id": "8zGJKyg5p1ck"
      }
    },
    {
      "cell_type": "markdown",
      "source": [
        "The insights gained from the line plot showing 'Date' versus 'Close' prices over time include:\n",
        "\n",
        "Trend Identification: Observation of the overall trend in closing prices over time, whether it's upward, downward, or sideways. This helps in understanding the general direction of price movement.\n",
        "\n",
        "Price Volatility: Identification of periods of high or low volatility in the market based on the magnitude of fluctuations in closing prices over time.\n",
        "\n",
        "Support and Resistance Levels: Identification of potential support or resistance levels based on recurring patterns or levels where closing prices tend to cluster.\n",
        "\n",
        "Market Sentiment: Inference of market sentiment based on the direction and magnitude of changes in closing prices over time. Consistent increases may indicate bullish sentiment, while consistent decreases may indicate bearish sentiment.\n",
        "\n",
        "Patterns and Trends: Recognition of recurring patterns or trends in closing prices, such as cycles, seasonality, or momentum, which can inform trading strategies and decision-making.\n",
        "\n",
        "Overall, the line plot of 'Date' versus 'Close' prices provides valuable insights into the historical performance and behavior of the financial asset, aiding in market analysis, trend identification, and decision-making processes."
      ],
      "metadata": {
        "id": "ZYdMsrqVp1ck"
      }
    },
    {
      "cell_type": "markdown",
      "source": [
        "##### 3. Will the gained insights help creating a positive business impact?\n",
        "Are there any insights that lead to negative growth? Justify with specific reason."
      ],
      "metadata": {
        "id": "PVzmfK_Ep1ck"
      }
    },
    {
      "cell_type": "markdown",
      "source": [
        "The insights gained from analyzing the relationship between 'Date' and 'Close' prices over time can potentially lead to positive business impacts:\n",
        "\n",
        "Positive Impact:\n",
        "\n",
        "1.Informed Investment Decisions: Understanding trends and patterns in closing prices helps investors make informed decisions about buying, holding, or selling assets, potentially leading to profitable investment outcomes.\n",
        "\n",
        "2.Risk Management: Insights into price volatility and support/resistance levels enable businesses to implement effective risk management strategies, minimizing potential losses and protecting investment portfolios.\n",
        "\n",
        "3.Market Analysis: Analysis of historical price data provides valuable insights into market trends, sentiment, and behavior, helping businesses identify opportunities and optimize trading strategies.\n",
        "\n",
        "4.Performance Evaluation: Monitoring changes in closing prices over time allows businesses to assess the performance of their investments and make adjustments to their investment strategies as needed.\n",
        "\n",
        "However, there are potential negative impacts to consider:\n",
        "\n",
        "Negative Impact:\n",
        "\n",
        "1.Losses Due to Market Volatility: Excessive price volatility may lead to increased investment risk and potential losses, especially if businesses fail to adequately manage their exposure to market fluctuations.\n",
        "\n",
        "2.Economic Downturns: Prolonged periods of declining closing prices may indicate broader economic downturns or market corrections, leading to negative growth for businesses heavily invested in affected sectors or assets.\n",
        "\n",
        "3.Incorrect Analysis: Misinterpreting trends or patterns in closing prices could lead to poor investment decisions, resulting in financial losses or missed opportunities for growth.\n",
        "\n",
        "Overall, while the insights gained from analyzing 'Date' versus 'Close' prices can help inform investment decisions and manage risks, businesses must exercise caution and consider potential negative impacts, such as losses due to market volatility or economic downturns. Strategic decision-making and risk management practices are essential for navigating both positive and negative aspects of market insights."
      ],
      "metadata": {
        "id": "druuKYZpp1ck"
      }
    },
    {
      "cell_type": "markdown",
      "source": [
        "#### Chart - 12"
      ],
      "metadata": {
        "id": "n3dbpmDWp1ck"
      }
    },
    {
      "cell_type": "code",
      "source": [
        "# Chart - 12 visualization code\n",
        "plt.figure(figsize=(10, 6))\n",
        "plt.plot(df['Date'], df['Open'], marker='o', linestyle='-')\n",
        "\n",
        "# Adding labels and title\n",
        "plt.title('Open Prices Over Time')\n",
        "plt.xlabel('Date')\n",
        "plt.ylabel('Open Price')\n",
        "plt.grid(True)\n",
        "plt.xticks(rotation=45)\n",
        "plt.tight_layout()\n",
        "plt.show()"
      ],
      "metadata": {
        "id": "bwevp1tKp1ck"
      },
      "execution_count": null,
      "outputs": []
    },
    {
      "cell_type": "markdown",
      "source": [
        "##### 1. Why did you pick the specific chart?"
      ],
      "metadata": {
        "id": "ylSl6qgtp1ck"
      }
    },
    {
      "cell_type": "markdown",
      "source": [
        "I chose to create a line plot visualizing the \"Open\" prices of a financial asset over time because it provides a clear and concise representation of how the opening prices fluctuate across different dates. This visualization allows for easy identification of trends, patterns, and potential changes in market sentiment at the beginning of trading sessions. Additionally, a line plot effectively conveys the overall movement and volatility of the \"Open\" prices, enabling analysts and traders to make informed decisions based on historical data. Overall, the line plot is a suitable choice for visually exploring the behavior of \"Open\" prices over time in a straightforward and interpretable manner."
      ],
      "metadata": {
        "id": "m2xqNkiQp1ck"
      }
    },
    {
      "cell_type": "markdown",
      "source": [
        "##### 2. What is/are the insight(s) found from the chart?"
      ],
      "metadata": {
        "id": "ZWILFDl5p1ck"
      }
    },
    {
      "cell_type": "markdown",
      "source": [
        "The insights gained from the line plot visualizing the \"Open\" prices of a financial asset over time include:\n",
        "\n",
        "Trend Identification: Observing the overall trend in \"Open\" prices over time can provide insights into whether the asset's value is generally increasing, decreasing, or remaining stable.\n",
        "\n",
        "Volatility Assessment: Analysis of the fluctuations in \"Open\" prices helps assess the level of volatility in the market. Wide variations between opening prices may indicate higher volatility, while narrower fluctuations suggest a more stable market environment.\n",
        "\n",
        "Intraday Price Behavior: Patterns or trends in the \"Open\" prices may reveal intraday price behavior, such as gaps between consecutive trading sessions or recurring opening price levels.\n",
        "\n",
        "Market Sentiment: Changes in \"Open\" prices may reflect shifts in market sentiment or investor confidence, providing indications of bullish or bearish tendencies.\n",
        "\n",
        "Trading Opportunities: Identifying specific patterns or anomalies in the \"Open\" prices can present potential trading opportunities for investors, such as entering positions at favorable opening price levels or exploiting price inefficiencies.\n",
        "\n",
        "Overall, the line plot of \"Open\" prices over time offers valuable insights into the historical performance and behavior of the financial asset at the beginning of trading sessions, aiding in market analysis, trend identification, and decision-making processes.\n",
        "\n",
        "\n",
        "\n",
        "\n",
        "\n",
        "\n"
      ],
      "metadata": {
        "id": "x-lUsV2mp1ck"
      }
    },
    {
      "cell_type": "markdown",
      "source": [
        "##### 3. Will the gained insights help creating a positive business impact?\n",
        "Are there any insights that lead to negative growth? Justify with specific reason."
      ],
      "metadata": {
        "id": "M7G43BXep1ck"
      }
    },
    {
      "cell_type": "markdown",
      "source": [
        "The insights gained from analyzing the \"Open\" prices of a financial asset over time can potentially lead to both positive and negative business impacts:\n",
        "\n",
        "Positive Impact:\n",
        "\n",
        "1.Informed Investment Decisions: Understanding trends and patterns in \"Open\" prices can help investors make informed decisions about buying or selling assets, potentially leading to profitable investment outcomes.\n",
        "\n",
        "2.Trading Strategies: Insights into intraday price behavior and market sentiment derived from \"Open\" prices can inform the development of trading strategies that capitalize on price movements and market trends.\n",
        "\n",
        "3.Risk Management: By assessing volatility and identifying potential trading opportunities, businesses can implement effective risk management strategies to mitigate losses and protect their investments.\n",
        "\n",
        "Negative Impact:\n",
        "\n",
        "1.Losses Due to Market Volatility: Excessive volatility in \"Open\" prices may lead to increased investment risk and potential losses, especially if businesses fail to adequately manage their exposure to market fluctuations.\n",
        "\n",
        "2.Incorrect Analysis: Misinterpreting trends or patterns in \"Open\" prices could lead to poor investment decisions, resulting in financial losses or missed opportunities for growth.\n",
        "\n",
        "3.Economic Downturns: Prolonged periods of declining \"Open\" prices may indicate broader economic downturns or market corrections, leading to negative growth for businesses heavily invested in affected sectors or assets.\n",
        "\n",
        "Overall, while insights gained from analyzing \"Open\" prices can help inform investment decisions and manage risks, businesses must exercise caution and consider potential negative impacts such as losses due to market volatility or economic downturns. Strategic decision-making and risk management practices are essential for navigating both positive and negative aspects of market insights."
      ],
      "metadata": {
        "id": "5wwDJXsLp1cl"
      }
    },
    {
      "cell_type": "markdown",
      "source": [
        "#### Chart - 13"
      ],
      "metadata": {
        "id": "Ag9LCva-p1cl"
      }
    },
    {
      "cell_type": "code",
      "source": [
        "# Chart - 13 visualization code\n",
        "plt.figure(figsize=(8, 6))\n",
        "plt.hist(df['Close'], bins=5, color='skyblue', edgecolor='black')\n",
        "\n",
        "# Adding labels and title\n",
        "plt.title('Histogram of Close Prices')\n",
        "plt.xlabel('Close Price')\n",
        "plt.ylabel('Frequency')\n",
        "plt.grid(True)\n",
        "plt.tight_layout()\n",
        "plt.show()"
      ],
      "metadata": {
        "id": "EUfxeq9-p1cl"
      },
      "execution_count": null,
      "outputs": []
    },
    {
      "cell_type": "markdown",
      "source": [
        "##### 1. Why did you pick the specific chart?"
      ],
      "metadata": {
        "id": "E6MkPsBcp1cl"
      }
    },
    {
      "cell_type": "markdown",
      "source": [
        "I chose to create a histogram of the \"Close\" prices because it provides a visual representation of the distribution of closing prices for a financial asset. Histograms are particularly useful for understanding the frequency or density of different price ranges and identifying any patterns or outliers in the data.\n",
        "\n",
        "By examining the distribution of \"Close\" prices, analysts and traders can gain insights into the typical price levels at which the asset tends to close, as well as the variability or dispersion of closing prices around these levels. This information can be valuable for making investment decisions, assessing market sentiment, and developing trading strategies.\n",
        "\n",
        "Overall, the histogram of \"Close\" prices offers a straightforward and intuitive way to visualize the distributional characteristics of closing prices, helping to inform market analysis and decision-making processes."
      ],
      "metadata": {
        "id": "V22bRsFWp1cl"
      }
    },
    {
      "cell_type": "markdown",
      "source": [
        "##### 2. What is/are the insight(s) found from the chart?"
      ],
      "metadata": {
        "id": "2cELzS2fp1cl"
      }
    },
    {
      "cell_type": "markdown",
      "source": [
        "The insights gained from the histogram of \"Close\" prices include:\n",
        "\n",
        "Central Tendency: The histogram provides information about the central tendency of closing prices, indicating the most common or frequent price levels at which the asset tends to close. Peaks in the histogram represent the modes or modal price levels.\n",
        "\n",
        "Distribution Shape: Observing the shape of the histogram can reveal insights into the distribution of closing prices. For example, a symmetric distribution suggests a balanced market, while skewed distributions may indicate asymmetry or bias in price movements.\n",
        "\n",
        "Variability: The spread or dispersion of closing prices, as depicted by the width of the histogram bars, provides insights into the variability of price levels around the central tendency. A wider spread indicates greater variability or volatility in closing prices.\n",
        "\n",
        "Outliers: Examination of the tails of the histogram can help identify outliers or extreme price levels that deviate significantly from the majority of observations. Outliers may represent unusual market events or anomalies that warrant further investigation.\n",
        "\n",
        "Patterns and Trends: Patterns or clusters in the histogram may reveal underlying market dynamics or trends in closing prices. Identifying recurring patterns can aid in understanding market behavior and anticipating future price movements.\n",
        "\n",
        "Overall, the histogram of \"Close\" prices offers valuable insights into the distributional characteristics of closing prices for a financial asset, aiding in market analysis, trend identification, and decision-making processes."
      ],
      "metadata": {
        "id": "ozQPc2_Ip1cl"
      }
    },
    {
      "cell_type": "markdown",
      "source": [
        "##### 3. Will the gained insights help creating a positive business impact?\n",
        "Are there any insights that lead to negative growth? Justify with specific reason."
      ],
      "metadata": {
        "id": "3MPXvC8up1cl"
      }
    },
    {
      "cell_type": "markdown",
      "source": [
        "The insights gained from analyzing the histogram of \"Close\" prices can potentially lead to both positive and negative business impacts:\n",
        "\n",
        "Positive Impact:\n",
        "\n",
        "1.Informed Decision-Making: Understanding the central tendency, variability, and distribution shape of closing prices can help businesses make informed decisions regarding investment strategies, risk management, and market positioning.\n",
        "\n",
        "2.Trading Opportunities: Identification of patterns, trends, and outliers in the histogram may present trading opportunities for businesses, allowing them to capitalize on market inefficiencies or anticipate price movements.\n",
        "\n",
        "3.Market Analysis: Insights derived from the histogram can facilitate deeper market analysis, enabling businesses to assess market sentiment, identify emerging trends, and stay ahead of competitors.\n",
        "\n",
        "4.Performance Evaluation: Monitoring changes in the distribution of closing prices over time can help businesses evaluate the performance of their investments and adjust their strategies accordingly.\n",
        "\n",
        "Negative Impact:\n",
        "\n",
        "1.Risk Exposure: Excessive variability or skewed distributions in closing prices may increase businesses' risk exposure, leading to potential losses if not adequately managed. Unexpected outliers or extreme price movements can also result in significant financial losses.\n",
        "\n",
        "2.Misinterpretation: Incorrect interpretation of the histogram, such as overlooking outliers or misjudging distribution patterns, may lead to poor decision-making and negative business outcomes.\n",
        "\n",
        "3.Market Instability: Persistent shifts in the distribution of closing prices, particularly towards the tails of the histogram, may indicate market instability or uncertainty, potentially leading to negative growth or financial instability for businesses.\n",
        "\n",
        "Overall, while the insights gained from analyzing the histogram of \"Close\" prices can help inform decision-making and identify trading opportunities, businesses must exercise caution and consider potential negative impacts, such as increased risk exposure and market instability. Strategic decision-making and risk management practices are essential for leveraging insights from the histogram effectively while mitigating potential downsides.\n",
        "\n",
        "\n",
        "\n",
        "\n",
        "\n",
        "\n"
      ],
      "metadata": {
        "id": "GL8l1tdLp1cl"
      }
    },
    {
      "cell_type": "markdown",
      "source": [
        "#### Chart - 14 - Correlation Heatmap"
      ],
      "metadata": {
        "id": "NC_X3p0fY2L0"
      }
    },
    {
      "cell_type": "code",
      "source": [
        "# Correlation Heatmap visualization code\n",
        "sns.heatmap(df.corr(),annot=True, cmap='coolwarm')"
      ],
      "metadata": {
        "id": "xyC9zolEZNRQ"
      },
      "execution_count": null,
      "outputs": []
    },
    {
      "cell_type": "markdown",
      "source": [
        "##### 1. Why did you pick the specific chart?"
      ],
      "metadata": {
        "id": "UV0SzAkaZNRQ"
      }
    },
    {
      "cell_type": "markdown",
      "source": [
        "I chose to create a correlation heatmap because it provides a visually appealing and informative way to explore the relationships between different variables in the dataset. The heatmap allows for easy identification of strong correlations (both positive and negative) between pairs of variables, helping to identify potential patterns, dependencies, and multicollinearity within the data. This visualization is particularly useful for understanding the underlying structure of the dataset and guiding further analysis or modeling efforts."
      ],
      "metadata": {
        "id": "DVPuT8LYZNRQ"
      }
    },
    {
      "cell_type": "markdown",
      "source": [
        "##### 2. What is/are the insight(s) found from the chart?"
      ],
      "metadata": {
        "id": "YPEH6qLeZNRQ"
      }
    },
    {
      "cell_type": "markdown",
      "source": [
        "The insight we get is Low has a higer corelation with closing price, then come High and then Open"
      ],
      "metadata": {
        "id": "bfSqtnDqZNRR"
      }
    },
    {
      "cell_type": "markdown",
      "source": [
        "#### Chart - 15 - Pair Plot"
      ],
      "metadata": {
        "id": "q29F0dvdveiT"
      }
    },
    {
      "cell_type": "code",
      "source": [
        "# Pair Plot visualization code\n",
        "sns.pairplot(data=df)\n",
        "plt.show()"
      ],
      "metadata": {
        "id": "o58-TEIhveiU"
      },
      "execution_count": null,
      "outputs": []
    },
    {
      "cell_type": "markdown",
      "source": [
        "##### 1. Why did you pick the specific chart?"
      ],
      "metadata": {
        "id": "EXh0U9oCveiU"
      }
    },
    {
      "cell_type": "markdown",
      "source": [
        "I chose to create a pair plot visualization because it provides a comprehensive overview of the relationships between multiple variables in the dataset. The pair plot allows for the examination of pairwise correlations and distributions between numerical variables, making it particularly useful for identifying patterns, trends, and potential outliers in the data. By visualizing these relationships in a grid of scatterplots and diagonal histograms, the pair plot helps uncover insights into the data's structure and informs further analysis or modeling decisions. Overall, the pair plot is a versatile and effective tool for exploratory data analysis."
      ],
      "metadata": {
        "id": "eMmPjTByveiU"
      }
    },
    {
      "cell_type": "markdown",
      "source": [
        "##### 2. What is/are the insight(s) found from the chart?"
      ],
      "metadata": {
        "id": "22aHeOlLveiV"
      }
    },
    {
      "cell_type": "markdown",
      "source": [
        "The insights gained from the pair plot visualization include:\n",
        "\n",
        "Relationships between Variables: Examination of the scatterplots reveals the relationships between pairs of variables. Positive correlations are indicated by upward sloping patterns, while negative correlations are indicated by downward sloping patterns.\n",
        "\n",
        "Strength of Relationships: The scatterplots allow for the assessment of the strength of relationships between variables. Tight clusters of data points indicate strong correlations, while more scattered distributions suggest weaker correlations.\n",
        "\n",
        "Distributions: The diagonal plots display the distributions of individual variables. Insights into the shape, spread, and central tendency of each variable's distribution can be gained, aiding in understanding the data's characteristics.\n",
        "\n",
        "Outliers: Identification of outliers in the scatterplots can provide insights into potential anomalies or extreme observations in the data, which may warrant further investigation.\n",
        "\n",
        "Overall, the pair plot provides a visual summary of the relationships and distributions within the dataset, facilitating exploratory data analysis and helping to uncover patterns and insights that may not be apparent from individual variables alone."
      ],
      "metadata": {
        "id": "uPQ8RGwHveiV"
      }
    },
    {
      "cell_type": "markdown",
      "source": [
        "## ***6. Feature Engineering & Data Pre-processing***"
      ],
      "metadata": {
        "id": "yLjJCtPM0KBk"
      }
    },
    {
      "cell_type": "markdown",
      "source": [
        "### 6. Data Scaling"
      ],
      "metadata": {
        "id": "rMDnDkt2B6du"
      }
    },
    {
      "cell_type": "code",
      "source": [
        "# Scaling your data\n",
        "# Select numerical columns for log transformation\n",
        "numerical_columns = df.select_dtypes(include=[np.number]).columns\n",
        "\n",
        "# Apply log transformation to numerical columns\n",
        "df[numerical_columns] = df[numerical_columns].apply(np.log)\n",
        "\n",
        "print(df)"
      ],
      "metadata": {
        "id": "dL9LWpySC6x_"
      },
      "execution_count": null,
      "outputs": []
    },
    {
      "cell_type": "markdown",
      "source": [
        "##### Which method have you used to scale you data and why?"
      ],
      "metadata": {
        "id": "yiiVWRdJDDil"
      }
    },
    {
      "cell_type": "markdown",
      "source": [
        "I chose log transformation because it can be effective for handling skewed distributions and reducing the impact of outliers. Additionally, log transformation can help stabilize the variance of the data and make it more homoscedastic, which is beneficial for certain types of analyses and modeling tasks."
      ],
      "metadata": {
        "id": "tpTesDBYlJzA"
      }
    },
    {
      "cell_type": "markdown",
      "source": [
        "### 8. Data Splitting"
      ],
      "metadata": {
        "id": "BhH2vgX9EjGr"
      }
    },
    {
      "cell_type": "code",
      "source": [
        "# Split your data to train and test. Choose Splitting ratio wisely.\n",
        "from sklearn.model_selection import train_test_split\n",
        "\n",
        "# Define features (X) and target variable (y)\n",
        "X = df.drop(columns=['Date', 'Close'])  # Features excluding 'Date' and 'Close'\n",
        "y = df['Close']  # Target variable\n",
        "\n",
        "# Split the data into training and testing sets\n",
        "X_train, X_test, y_train, y_test = train_test_split(X, y, test_size=0.2, random_state=42)\n",
        "\n",
        "# Check the shapes of the resulting sets\n",
        "print(\"Training set - X:\", X_train.shape, \" y:\", y_train.shape)\n",
        "print(\"Testing set - X:\", X_test.shape, \" y:\", y_test.shape)\n"
      ],
      "metadata": {
        "id": "0CTyd2UwEyNM"
      },
      "execution_count": null,
      "outputs": []
    },
    {
      "cell_type": "markdown",
      "source": [
        "##### What data splitting ratio have you used and why?"
      ],
      "metadata": {
        "id": "qjKvONjwE8ra"
      }
    },
    {
      "cell_type": "markdown",
      "source": [
        "I used a common data splitting ratio of 80% training data and 20% testing data.\n",
        "\n",
        "This ratio is frequently used in machine learning and data analysis because it strikes a balance between having enough data for training to build a reliable model and having enough data for testing to accurately evaluate the model's performance.\n",
        "\n",
        "A larger training set (80%) allows the model to learn from a substantial portion of the data, improving its ability to capture patterns and relationships in the data. Meanwhile, a smaller testing set (20%) ensures that there is enough independent data to evaluate the model's generalization performance accurately."
      ],
      "metadata": {
        "id": "Y2lJ8cobFDb_"
      }
    },
    {
      "cell_type": "markdown",
      "source": [
        "## ***7. ML Model Implementation***"
      ],
      "metadata": {
        "id": "VfCC591jGiD4"
      }
    },
    {
      "cell_type": "markdown",
      "source": [
        "### ML Model - 1"
      ],
      "metadata": {
        "id": "OB4l2ZhMeS1U"
      }
    },
    {
      "cell_type": "code",
      "source": [
        "from sklearn.linear_model import LinearRegression\n",
        "\n",
        "# Instantiate the linear regression model\n",
        "model = LinearRegression()\n",
        "\n",
        "# Fit the model to the training data\n",
        "model.fit(X_train, y_train)\n",
        "\n",
        "# Predict on the testing data\n",
        "y_pred = model.predict(X_test)\n",
        "\n",
        "# Evaluate the model performance (optional)\n",
        "# You can use metrics such as mean squared error, R-squared, etc.\n",
        "from sklearn.metrics import mean_squared_error, r2_score\n",
        "\n",
        "mse = mean_squared_error(y_test, y_pred)\n",
        "r2 = r2_score(y_test, y_pred)\n",
        "\n",
        "print(\"Mean Squared Error:\", mse)\n",
        "print(\"R-squared:\", r2)\n"
      ],
      "metadata": {
        "id": "7ebyywQieS1U"
      },
      "execution_count": null,
      "outputs": []
    },
    {
      "cell_type": "markdown",
      "source": [
        "#### 1. Explain the ML Model used and it's performance using Evaluation metric Score Chart."
      ],
      "metadata": {
        "id": "ArJBuiUVfxKd"
      }
    },
    {
      "cell_type": "code",
      "source": [
        "# Plotting actual vs. predicted values\n",
        "plt.figure(figsize=(8, 6))\n",
        "plt.scatter(y_test, y_pred, color='blue', alpha=0.5)\n",
        "plt.plot(y_test, y_test, color='red', linestyle='--')  # Plotting the diagonal line (y_test = y_pred)\n",
        "plt.title('Actual vs. Predicted')\n",
        "plt.xlabel('Actual')\n",
        "plt.ylabel('Predicted')\n",
        "plt.show()"
      ],
      "metadata": {
        "id": "rqD5ZohzfxKe"
      },
      "execution_count": null,
      "outputs": []
    },
    {
      "cell_type": "code",
      "source": [],
      "metadata": {
        "id": "CU4-FAK0u5NU"
      },
      "execution_count": null,
      "outputs": []
    },
    {
      "cell_type": "markdown",
      "source": [
        "### ML Model - 2"
      ],
      "metadata": {
        "id": "dJ2tPlVmpsJ0"
      }
    },
    {
      "cell_type": "code",
      "source": [
        "from sklearn.linear_model import Lasso\n",
        "from sklearn.metrics import mean_squared_error, r2_score\n",
        "\n",
        "# Instantiate the Lasso regression model\n",
        "lasso_model = Lasso(alpha=0.1)  # Adjust alpha for regularization strength\n",
        "\n",
        "# Fit the model to the training data\n",
        "lasso_model.fit(X_train, y_train)\n",
        "\n",
        "# Predict on the testing data\n",
        "y_pred_lasso = lasso_model.predict(X_test)\n",
        "\n",
        "# Evaluate the model performance\n",
        "mse_lasso = mean_squared_error(y_test, y_pred_lasso)\n",
        "r2_lasso = r2_score(y_test, y_pred_lasso)\n",
        "\n",
        "print(\"Mean Squared Error (Lasso):\", mse_lasso)\n",
        "print(\"R-squared (Lasso):\", r2_lasso)\n"
      ],
      "metadata": {
        "id": "OkxNGWBipxtA"
      },
      "execution_count": null,
      "outputs": []
    },
    {
      "cell_type": "markdown",
      "source": [
        "#### 1. Explain the ML Model used and it's performance using Evaluation metric Score Chart."
      ],
      "metadata": {
        "id": "JWYfwnehpsJ1"
      }
    },
    {
      "cell_type": "code",
      "source": [
        "# Visualizing evaluation Metric Score chart\n",
        "plt.figure(figsize=(8, 6))\n",
        "plt.scatter(y_test, y_pred, color='blue', alpha=0.5, label='Linear Regression')\n",
        "plt.plot(y_test, y_test, color='red', linestyle='--')  # Plotting the diagonal line (y_test = y_pred)\n",
        "plt.title('Actual vs. Predicted (Linear Regression)')\n",
        "plt.xlabel('Actual')\n",
        "plt.ylabel('Predicted')\n",
        "plt.legend()\n",
        "plt.show()\n",
        "\n",
        "# Plotting actual vs. predicted values for Lasso Regression\n",
        "plt.figure(figsize=(8, 6))\n",
        "plt.scatter(y_test, y_pred_lasso, color='green', alpha=0.5, label='Lasso Regression')\n",
        "plt.plot(y_test, y_test, color='red', linestyle='--')  # Plotting the diagonal line (y_test = y_pred)\n",
        "plt.title('Actual vs. Predicted (Lasso Regression)')\n",
        "plt.xlabel('Actual')\n",
        "plt.ylabel('Predicted')\n",
        "plt.legend()\n",
        "plt.show()"
      ],
      "metadata": {
        "id": "yEl-hgQWpsJ1"
      },
      "execution_count": null,
      "outputs": []
    },
    {
      "cell_type": "markdown",
      "source": [
        "### ML Model - 3"
      ],
      "metadata": {
        "id": "Fze-IPXLpx6K"
      }
    },
    {
      "cell_type": "code",
      "source": [
        "from sklearn.ensemble import RandomForestRegressor\n",
        "from sklearn.metrics import mean_squared_error, r2_score\n",
        "\n",
        "# Instantiate the Random Forest Regression model\n",
        "rf_model = RandomForestRegressor(n_estimators=100, random_state=42)  # You can adjust the number of estimators (trees)\n",
        "\n",
        "# Fit the model to the training data\n",
        "rf_model.fit(X_train, y_train)\n",
        "\n",
        "# Predict on the testing data\n",
        "y_pred_rf = rf_model.predict(X_test)\n",
        "\n",
        "# Evaluate the model performance\n",
        "mse_rf = mean_squared_error(y_test, y_pred_rf)\n",
        "r2_rf = r2_score(y_test, y_pred_rf)\n",
        "\n",
        "print(\"Mean Squared Error (Random Forest):\", mse_rf)\n",
        "print(\"R-squared (Random Forest):\", r2_rf)\n"
      ],
      "metadata": {
        "id": "FFrSXAtrpx6M"
      },
      "execution_count": null,
      "outputs": []
    },
    {
      "cell_type": "markdown",
      "source": [
        "#### 1. Explain the ML Model used and it's performance using Evaluation metric Score Chart."
      ],
      "metadata": {
        "id": "7AN1z2sKpx6M"
      }
    },
    {
      "cell_type": "code",
      "source": [
        "# Visualizing evaluation Metric Score chart\n",
        "\n",
        "# Plotting actual vs. predicted values for Random Forest Regression\n",
        "plt.figure(figsize=(8, 6))\n",
        "plt.scatter(y_test, y_pred_rf, color='green', alpha=0.5, label='Random Forest Regression')\n",
        "plt.plot(y_test, y_test, color='red', linestyle='--')  # Plotting the diagonal line (y_test = y_pred)\n",
        "plt.title('Actual vs. Predicted (Random Forest Regression)')\n",
        "plt.xlabel('Actual')\n",
        "plt.ylabel('Predicted')\n",
        "plt.legend()\n",
        "plt.show()"
      ],
      "metadata": {
        "id": "xIY4lxxGpx6M"
      },
      "execution_count": null,
      "outputs": []
    },
    {
      "cell_type": "code",
      "source": [
        "from sklearn.metrics import mean_squared_error, mean_absolute_error, r2_score\n",
        "\n",
        "# Compute metrics for Linear Regression\n",
        "mse_lr = mean_squared_error(y_test, y_pred)\n",
        "mae_lr = mean_absolute_error(y_test, y_pred)\n",
        "r2_lr = r2_score(y_test, y_pred)\n",
        "\n",
        "# Compute metrics for Lasso Regression\n",
        "mse_lasso = mean_squared_error(y_test, y_pred_lasso)\n",
        "mae_lasso = mean_absolute_error(y_test, y_pred_lasso)\n",
        "r2_lasso = r2_score(y_test, y_pred_lasso)\n",
        "\n",
        "# Compute metrics for Random Forest Regression\n",
        "mse_rf = mean_squared_error(y_test, y_pred_rf)\n",
        "mae_rf = mean_absolute_error(y_test, y_pred_rf)\n",
        "r2_rf = r2_score(y_test, y_pred_rf)\n",
        "\n",
        "print(\"Linear Regression:\")\n",
        "print(\"Mean Squared Error:\", mse_lr)\n",
        "print(\"Mean Absolute Error:\", mae_lr)\n",
        "print(\"R-squared:\", r2_lr)\n",
        "print()\n",
        "\n",
        "print(\"Lasso Regression:\")\n",
        "print(\"Mean Squared Error:\", mse_lasso)\n",
        "print(\"Mean Absolute Error:\", mae_lasso)\n",
        "print(\"R-squared:\", r2_lasso)\n",
        "print()\n",
        "\n",
        "print(\"Random Forest Regression:\")\n",
        "print(\"Mean Squared Error:\", mse_rf)\n",
        "print(\"Mean Absolute Error:\", mae_rf)\n",
        "print(\"R-squared:\", r2_rf)\n"
      ],
      "metadata": {
        "id": "maqnnppkrB6v"
      },
      "execution_count": null,
      "outputs": []
    },
    {
      "cell_type": "markdown",
      "source": [
        "Hyperparameter Tunning"
      ],
      "metadata": {
        "id": "DHiqigO8xPTO"
      }
    },
    {
      "cell_type": "code",
      "source": [
        "from sklearn.model_selection import GridSearchCV\n",
        "from sklearn.ensemble import RandomForestRegressor\n",
        "\n",
        "# Define the parameter grid\n",
        "param_grid = {\n",
        "    'n_estimators': [100, 200, 300],  # Number of trees in the forest\n",
        "    'max_depth': [None, 10, 20],  # Maximum depth of the tree\n",
        "    'min_samples_split': [2, 5, 10],  # Minimum number of samples required to split an internal node\n",
        "    'min_samples_leaf': [1, 2, 4]  # Minimum number of samples required to be at a leaf node\n",
        "}\n",
        "\n",
        "# Instantiate the Random Forest Regression model\n",
        "rf_model = RandomForestRegressor(random_state=42)\n",
        "\n",
        "# Instantiate GridSearchCV\n",
        "grid_search = GridSearchCV(estimator=rf_model, param_grid=param_grid, cv=5, scoring='neg_mean_squared_error', n_jobs=-1)\n",
        "\n",
        "# Fit GridSearchCV to the training data\n",
        "grid_search.fit(X_train, y_train)\n",
        "\n",
        "# Get the best parameters\n",
        "best_params = grid_search.best_params_\n",
        "print(\"Best Parameters:\", best_params)\n",
        "\n",
        "# Get the best model\n",
        "best_rf_model = grid_search.best_estimator_\n",
        "\n",
        "# Predict on the testing data using the best model\n",
        "y_pred_tuned = best_rf_model.predict(X_test)\n",
        "\n",
        "# Evaluate the model performance\n",
        "mse_tuned = mean_squared_error(y_test, y_pred_tuned)\n",
        "mae_tuned = mean_absolute_error(y_test, y_pred_tuned)\n",
        "r2_tuned = r2_score(y_test, y_pred_tuned)\n",
        "\n",
        "print(\"Tuned Random Forest Regression:\")\n",
        "print(\"Mean Squared Error:\", mse_tuned)\n",
        "print(\"Mean Absolute Error:\", mae_tuned)\n",
        "print(\"R-squared:\", r2_tuned)\n"
      ],
      "metadata": {
        "id": "jmTq9YL6sdfN"
      },
      "execution_count": null,
      "outputs": []
    },
    {
      "cell_type": "markdown",
      "source": [
        "### 1. Which Evaluation metrics did you consider for a positive business impact and why?"
      ],
      "metadata": {
        "id": "h_CCil-SKHpo"
      }
    },
    {
      "cell_type": "markdown",
      "source": [
        "Considering these metrics, Linear Regression appears to perform the best among the three models in terms of accuracy and explanatory power. Therefore, for a positive business impact, we would prioritize models with lower MSE and MAE and higher R-squared values, as they provide more accurate predictions and better capture the variability in the data, ultimately leading to more informed business decisions."
      ],
      "metadata": {
        "id": "jHVz9hHDKFms"
      }
    },
    {
      "cell_type": "markdown",
      "source": [
        "### 2. Which ML model did you choose from the above created models as your final prediction model and why?"
      ],
      "metadata": {
        "id": "cBFFvTBNJzUa"
      }
    },
    {
      "cell_type": "markdown",
      "source": [
        "Linear Regression demonstrates superior predictive performance with lower MSE and MAE, indicating more accurate predictions and smaller errors. Additionally, the higher R-squared value suggests that Linear Regression explains a greater proportion of the variance in the target variable compared to the other models.\n",
        "\n",
        "Therefore, for achieving a positive business impact, Linear Regression would be the recommended model, as it is better equipped to provide accurate predictions and insights that can support informed decision-making processes within the business.\n",
        "\n",
        "\n",
        "\n",
        "\n",
        "\n",
        "\n"
      ],
      "metadata": {
        "id": "6ksF5Q1LKTVm"
      }
    },
    {
      "cell_type": "markdown",
      "source": [
        "### 3. Explain the model which you have used and the feature importance using any model explainability tool?"
      ],
      "metadata": {
        "id": "HvGl1hHyA_VK"
      }
    },
    {
      "cell_type": "markdown",
      "source": [
        "The model used is Linear Regression, a simple yet powerful machine learning algorithm commonly employed for regression tasks. Linear Regression models the relationship between the independent variables (features) and the dependent variable (target) by fitting a linear equation to the observed data. It assumes that the relationship between the features and the target variable is linear and additive.\n",
        "\n",
        "Feature importance in Linear Regression is typically determined by the magnitude of the coefficients assigned to each feature in the linear equation. A higher absolute value of the coefficient indicates a stronger influence of the corresponding feature on the target variable.\n",
        "\n",
        "To explain the model's feature importance, we can use various model explainability tools such as:\n",
        "\n",
        "Coefficients: Directly inspecting the coefficients of the linear equation obtained after fitting the model can provide insights into feature importance. Features with larger coefficients are considered more important.\n",
        "\n",
        "Partial Dependence Plots (PDP): PDPs visualize the relationship between a feature and the target variable while marginalizing over the values of other features. They illustrate how the predicted outcome changes as a specific feature varies while keeping other features constant.\n",
        "\n",
        "Permutation Importance: This method assesses the importance of each feature by measuring the change in model performance (e.g., R-squared) when the values of that feature are randomly permuted. Features resulting in the largest drop in performance are considered most important.\n",
        "\n",
        "SHAP (SHapley Additive exPlanations): SHAP values provide a unified measure of feature importance by considering the contribution of each feature to the prediction for each individual data point. Positive SHAP values indicate features that increase the prediction, while negative values indicate features that decrease it.\n",
        "\n",
        "These explainability tools help interpret the Linear Regression model's behavior and provide insights into which features are driving its predictions. By understanding feature importance, stakeholders can gain valuable insights into the factors influencing the target variable, leading to more informed decision-making processes."
      ],
      "metadata": {
        "id": "YnvVTiIxBL-C"
      }
    },
    {
      "cell_type": "markdown",
      "source": [
        "### 1. Save the best performing ml model in a pickle file or joblib file format for deployment process.\n"
      ],
      "metadata": {
        "id": "KH5McJBi2d8v"
      }
    },
    {
      "cell_type": "code",
      "source": [
        "import joblib\n",
        "\n",
        "\n",
        "# Save the model to a file\n",
        "joblib.dump(model, 'best_model.joblib')\n",
        "\n"
      ],
      "metadata": {
        "id": "bQIANRl32f4J"
      },
      "execution_count": null,
      "outputs": []
    },
    {
      "cell_type": "markdown",
      "source": [
        "### 2. Again Load the saved model file and try to predict unseen data for a sanity check.\n"
      ],
      "metadata": {
        "id": "iW_Lq9qf2h6X"
      }
    },
    {
      "cell_type": "code",
      "source": [
        "import joblib\n",
        "\n",
        "# Load the saved model from the file\n",
        "loaded_model = joblib.load('best_model.joblib')\n",
        "\n",
        "\n",
        "# Make predictions on unseen data\n",
        "predictions = loaded_model.predict(X_test)\n",
        "\n",
        "# Print the predictions\n",
        "print(\"Predictions:\", predictions)\n",
        "\n"
      ],
      "metadata": {
        "id": "oEXk9ydD2nVC"
      },
      "execution_count": null,
      "outputs": []
    },
    {
      "cell_type": "code",
      "source": [
        "plt.figure(figsize=(8, 6))\n",
        "plt.scatter(y_test, predictions, color='blue', alpha=0.5)\n",
        "plt.plot(y_test, y_test, color='red', linestyle='--')  # Plotting the diagonal line (y_test = predictions)\n",
        "plt.title('Actual vs. Predicted')\n",
        "plt.xlabel('Actual')\n",
        "plt.ylabel('Predicted')\n",
        "plt.show()"
      ],
      "metadata": {
        "id": "NLZfpCtz12gs"
      },
      "execution_count": null,
      "outputs": []
    },
    {
      "cell_type": "markdown",
      "source": [
        "### ***Congrats! Your model is successfully created and ready for deployment on a live server for a real user interaction !!!***"
      ],
      "metadata": {
        "id": "-Kee-DAl2viO"
      }
    },
    {
      "cell_type": "markdown",
      "source": [
        "# **Conclusion**"
      ],
      "metadata": {
        "id": "gCX9965dhzqZ"
      }
    },
    {
      "cell_type": "markdown",
      "source": [
        "In conclusion, we have performed a comprehensive analysis and modeling task on the dataset. Here are the key findings and takeaways:\n",
        "\n",
        "Exploratory Data Analysis (EDA): Through EDA, we gained insights into the dataset's structure, distribution, and relationships between variables. We observed trends and patterns in the stock prices over time, identifying potential seasonality or trends.\n",
        "\n",
        "Data Preprocessing: We addressed missing values, converted data types, and handled duplicates. Additionally, we scaled the data using log transformation to handle skewness and outliers effectively.\n",
        "\n",
        "Modeling: We applied three different regression models: Linear Regression, Lasso Regression, and Random Forest Regression. Each model was evaluated using metrics such as Mean Squared Error (MSE), Mean Absolute Error (MAE), and R-squared.\n",
        "\n",
        "Model Evaluation: Among the models tested, Linear Regression exhibited the best performance based on evaluation metrics, achieving a high R-squared value and low errors. Lasso Regression and Random Forest Regression also performed reasonably well but slightly worse than Linear Regression.\n",
        "\n",
        "Hyperparameter Tuning: We optimized the Random Forest Regression model using hyperparameter tuning, which further improved its performance marginally.\n",
        "\n",
        "Deployment Preparation: Finally, we saved the best performing model (Linear Regression) using Joblib for future deployment and made predictions on unseen data to ensure model generalization.\n",
        "\n",
        "Overall, the Linear Regression model demonstrated strong predictive performance and can be considered suitable for deployment in real-world applications, pending further validation and testing. Further improvements and optimizations can be explored, such as feature engineering, ensemble methods, or more sophisticated models, to enhance predictive accuracy and robustness."
      ],
      "metadata": {
        "id": "Fjb1IsQkh3yE"
      }
    },
    {
      "cell_type": "markdown",
      "source": [
        "### ***Hurrah! You have successfully completed your Machine Learning Capstone Project !!!***"
      ],
      "metadata": {
        "id": "gIfDvo9L0UH2"
      }
    }
  ]
}